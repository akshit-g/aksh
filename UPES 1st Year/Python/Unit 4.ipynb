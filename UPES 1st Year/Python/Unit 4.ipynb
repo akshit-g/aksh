{
  "nbformat": 4,
  "nbformat_minor": 0,
  "metadata": {
    "colab": {
      "name": "UNIT 4.ipynb",
      "provenance": [],
      "collapsed_sections": []
    },
    "kernelspec": {
      "name": "python3",
      "display_name": "Python 3"
    },
    "language_info": {
      "name": "python"
    }
  },
  "cells": [
    {
      "cell_type": "code",
      "execution_count": null,
      "metadata": {
        "id": "o8M0i-TM2hkZ"
      },
      "outputs": [],
      "source": [
        "class sum:\n",
        "  a = 10\n",
        "  b = 20\n",
        "\n",
        "  def s(self): #why this self\n",
        "    a = 300\n",
        "    print(a+self.b)\n",
        "ob = sum() #create object of class sum\n",
        "ob.s()"
      ]
    },
    {
      "cell_type": "code",
      "source": [
        "class s:\n",
        "  a = []\n",
        "  def abc(self, x2):\n",
        "    self.a = x2\n",
        "    print(self.a) \n",
        " \n",
        "\n",
        "x1= [1,2,3,4,5]\n",
        "ob1 = s()\n",
        "ob1.abc(x1*2)"
      ],
      "metadata": {
        "id": "HC4rOwVIBaTh",
        "colab": {
          "base_uri": "https://localhost:8080/"
        },
        "outputId": "9b0f6a36-bb2c-4684-d5c5-cc3a21e19f8f"
      },
      "execution_count": null,
      "outputs": [
        {
          "output_type": "stream",
          "name": "stdout",
          "text": [
            "[1, 2, 3, 4, 5, 1, 2, 3, 4, 5]\n"
          ]
        }
      ]
    },
    {
      "cell_type": "code",
      "source": [
        "class abc:\n",
        "  a = 100\n",
        "  def ab(self):\n",
        "    a = 200\n",
        "    print(a)\n",
        "  \n",
        "ob = abc()\n",
        "ob.ab()\n"
      ],
      "metadata": {
        "id": "LEhZRRp2is-7"
      },
      "execution_count": null,
      "outputs": []
    },
    {
      "cell_type": "code",
      "source": [
        "class sum1:\n",
        "  a = 10\n",
        "  b = 20\n",
        "\n",
        "  def s(self, a): #self.a means data member of class\n",
        "    a = 300\n",
        "    print(self.a+a)\n",
        "ob = sum1() #create object of class sum\n",
        "a = 100\n",
        "ob.s(a)"
      ],
      "metadata": {
        "id": "-TDtXU2O9P6c",
        "colab": {
          "base_uri": "https://localhost:8080/"
        },
        "outputId": "d470c94e-9fb7-4def-f3d4-30f5faff65aa"
      },
      "execution_count": null,
      "outputs": [
        {
          "output_type": "stream",
          "name": "stdout",
          "text": [
            "310\n"
          ]
        }
      ]
    },
    {
      "cell_type": "code",
      "source": [
        "class class_a:\n",
        "  def __init__(self):\n",
        "   print(\"hello abc\")\n",
        "ob1 = class_a()"
      ],
      "metadata": {
        "id": "_p-tBuzHmLD7"
      },
      "execution_count": null,
      "outputs": []
    },
    {
      "cell_type": "code",
      "source": [
        "class class_a:\n",
        "  def __init__(self):\n",
        "    self.a = 100\n",
        "    self.b = 200\n",
        "ob1 = class_a()\n",
        "print(ob1.a+ob1.b)\n"
      ],
      "metadata": {
        "id": "XpoclHdTjBd5",
        "colab": {
          "base_uri": "https://localhost:8080/"
        },
        "outputId": "42053922-7fc4-42a2-8938-184db6bd420b"
      },
      "execution_count": null,
      "outputs": [
        {
          "output_type": "stream",
          "name": "stdout",
          "text": [
            "300\n"
          ]
        }
      ]
    },
    {
      "cell_type": "code",
      "source": [
        "class class_a:\n",
        "  def __init__(self):\n",
        "    a = 100\n",
        "    b = 200\n",
        "ob1 = class_a()\n",
        "print(ob1.a+ob1.b)"
      ],
      "metadata": {
        "id": "_WENnEeDmft4"
      },
      "execution_count": null,
      "outputs": []
    },
    {
      "cell_type": "code",
      "source": [
        "class class_a:\n",
        "  def __init__(self): #now a, b are local member of constructor\n",
        "    a = 100\n",
        "    b = 200\n",
        "    print(a+b)\n",
        "ob1 = class_a()"
      ],
      "metadata": {
        "id": "sktz-nwWj_7r"
      },
      "execution_count": null,
      "outputs": []
    },
    {
      "cell_type": "code",
      "source": [
        "class sum:\n",
        "  def __init__(self, a, b):\n",
        "    self.x = a\n",
        "    self.y = b\n",
        "    print(self.x + self.y)\n",
        "\n",
        "a1 = sum(10,20)\n",
        "print(a1.x, a1.y)\n"
      ],
      "metadata": {
        "id": "-Rba3NXVM863"
      },
      "execution_count": null,
      "outputs": []
    },
    {
      "cell_type": "markdown",
      "source": [
        "##zip function"
      ],
      "metadata": {
        "id": "JtQVSZaZQfeV"
      }
    },
    {
      "cell_type": "code",
      "source": [
        "a = [1,2,3]\n",
        "b = [45,6,7]\n",
        "c = list(zip(a, b, \"hello\"))\n",
        "print(c)"
      ],
      "metadata": {
        "id": "jSvvZ8D_QiyA",
        "colab": {
          "base_uri": "https://localhost:8080/"
        },
        "outputId": "f50ba8e3-ff21-4fed-b8ac-4f338e626d42"
      },
      "execution_count": null,
      "outputs": [
        {
          "output_type": "stream",
          "name": "stdout",
          "text": [
            "[(1, 45, 'h'), (2, 6, 'e'), (3, 7, 'l')]\n"
          ]
        }
      ]
    },
    {
      "cell_type": "markdown",
      "source": [
        "##calculate the variance of give data"
      ],
      "metadata": {
        "id": "fN13ifWrU2SB"
      }
    },
    {
      "cell_type": "code",
      "source": [
        "import random as r\n",
        "class var:\n",
        "  data = []\n",
        "  def vsd(self, l1):\n",
        "    mean = 0\n",
        "    sum = 0\n",
        "    data = l1\n",
        "    n = len(data)\n",
        "    for i in data:\n",
        "      mean = mean + i\n",
        "    mean = mean/n\n",
        "    dev = [(x - mean) ** 2 for x in data]\n",
        "    for i in dev:\n",
        "      sum = sum + i\n",
        "    return sum/(n-1)\n",
        "\n",
        "l1 = [21, 19, 11, 21, 19, 46, 29]\n",
        "#for i in range(1,5):\n",
        "#  l1.append(r.randrange(10, 25))\n",
        "ob1 = var()\n",
        "ob1.vsd(l1)"
      ],
      "metadata": {
        "id": "_pvoLMosU-49"
      },
      "execution_count": null,
      "outputs": []
    },
    {
      "cell_type": "code",
      "source": [
        "import statistics\n",
        "\n",
        "dataset = [21, 19, 11, 21, 19, 46, 29]\n",
        "output = statistics.variance(dataset) \n",
        "\n",
        "print(output)"
      ],
      "metadata": {
        "id": "Mt9IBq7Z-JMR"
      },
      "execution_count": null,
      "outputs": []
    },
    {
      "cell_type": "markdown",
      "source": [
        "## pass two list in member function of class and retun the list of  pairwise tupple of list elements. "
      ],
      "metadata": {
        "id": "t6lnZClWT7lK"
      }
    },
    {
      "cell_type": "code",
      "source": [
        "import random as r\n",
        "class tup_list:\n",
        "  def fun(self, x, y):\n",
        "    z = list(zip(x, y))\n",
        "    return z\n",
        "l1 = []\n",
        "l2 = []\n",
        "for i in range(1,5):\n",
        "  l1.append(r.randrange(10, 20))\n",
        "for i in range(1,5):\n",
        "  l2.append(r.randrange(10, 20))\n",
        "obj1 = tup_list()\n",
        "z = obj1.fun(l1, l2)\n",
        "print(z)"
      ],
      "metadata": {
        "id": "AL_byHvdRLiK"
      },
      "execution_count": null,
      "outputs": []
    },
    {
      "cell_type": "markdown",
      "source": [
        "##public vs private"
      ],
      "metadata": {
        "id": "QvFNwztglzA4"
      }
    },
    {
      "cell_type": "code",
      "source": [
        "class pu:\n",
        "  a = 100\n",
        "\n",
        "ob1 = pu()\n",
        "print(ob1.a)"
      ],
      "metadata": {
        "id": "cw_fMsGmmDZs"
      },
      "execution_count": null,
      "outputs": []
    },
    {
      "cell_type": "code",
      "source": [
        "class pr:\n",
        "  __a = 100\n",
        "\n",
        "ob1 = pr()\n",
        "print(ob1.__a)"
      ],
      "metadata": {
        "id": "VBwd7IVrmrDE"
      },
      "execution_count": null,
      "outputs": []
    },
    {
      "cell_type": "markdown",
      "source": [
        "##Each instance having its own memory"
      ],
      "metadata": {
        "id": "H9_E_sA8vrYa"
      }
    },
    {
      "cell_type": "code",
      "source": [
        "class abc:\n",
        "    a = 10\n",
        "    b = 20\n",
        "    def m1(self):\n",
        "        self.a = 100\n",
        "        self.b = 200\n",
        "       \n",
        "t1 = abc()\n",
        "t2 = abc()      \n",
        "t1.m1() \n",
        "print(t1.a, t1.b) \n",
        "print(t2.a, t2.b) \n"
      ],
      "metadata": {
        "id": "n1ai1SVXohqb"
      },
      "execution_count": null,
      "outputs": []
    },
    {
      "cell_type": "markdown",
      "source": [
        "##difference between using self and classname"
      ],
      "metadata": {
        "id": "llpK8-rlw3Ov"
      }
    },
    {
      "cell_type": "code",
      "source": [
        "class abc:\n",
        "    a = 10\n",
        "    def m1(self):\n",
        "        self.a = 200\n",
        "        abc.a = 100\n",
        "       \n",
        "t1 = abc()\n",
        "t2 = abc()\n",
        "t1.m1()\n",
        "print(t1.a)"
      ],
      "metadata": {
        "id": "edY_xEZdxCGo"
      },
      "execution_count": null,
      "outputs": []
    },
    {
      "cell_type": "code",
      "source": [
        "class abc:\n",
        "    a = 10\n",
        "    def m1(self):\n",
        "        self.a = 100\n",
        "       \n",
        "t1 = abc()\n",
        "t1.m1()\n",
        "print(t1.a)"
      ],
      "metadata": {
        "id": "V6tgFta2xX9p"
      },
      "execution_count": null,
      "outputs": []
    },
    {
      "cell_type": "code",
      "source": [
        "class abc:\n",
        "    a = 10\n",
        "    def m1(self):\n",
        "        abc.a = 100\n",
        "       \n",
        "t1 = abc()\n",
        "t2 = abc()\n",
        "t1.m1()\n",
        "print(t2.a)"
      ],
      "metadata": {
        "id": "0i0nlG9SxiAT"
      },
      "execution_count": null,
      "outputs": []
    },
    {
      "cell_type": "code",
      "source": [
        "class abc:\n",
        "    a = 10\n",
        "    def m1(self):\n",
        "        self.a = 100\n",
        "       \n",
        "t1 = abc()\n",
        "t2 = abc()\n",
        "t3 = abc()\n",
        "t4 = abc()\n",
        "t1.m1()\n",
        "print(t1.a)\n",
        "print(t2.a)\n",
        "print(t3.a)\n",
        "print(t4.a)"
      ],
      "metadata": {
        "id": "AdNFRh9Jxxzy"
      },
      "execution_count": null,
      "outputs": []
    },
    {
      "cell_type": "code",
      "source": [
        "class abc:\n",
        "    a = 10\n",
        "    b = 20\n",
        "    def m1(self):\n",
        "        abc.a = 100\n",
        "        self.b = 200\n",
        "       \n",
        "t1 = abc()\n",
        "t2 = abc()\n",
        "t3 = abc()\n",
        "t1.m1()\n",
        "print(t2.a)\n",
        "print(t3.b)"
      ],
      "metadata": {
        "id": "bfUFRwW1lzYi"
      },
      "execution_count": null,
      "outputs": []
    },
    {
      "cell_type": "code",
      "source": [
        "class A:\n",
        "  def fun(self):\n",
        "    print(\"hello\")\n",
        "class B:\n",
        "  pass\n",
        "ob1 = B()\n",
        "ob1.fun()"
      ],
      "metadata": {
        "id": "jw1Q56E2ibph"
      },
      "execution_count": null,
      "outputs": []
    },
    {
      "cell_type": "code",
      "source": [
        "class A:\n",
        "  def fun(self):\n",
        "    print(\"hello\")\n",
        "class B:\n",
        "  pass\n",
        "ob1 = B()\n",
        "ob1.fun()"
      ],
      "metadata": {
        "id": "I8HmyF5Xix9D"
      },
      "execution_count": null,
      "outputs": []
    },
    {
      "cell_type": "code",
      "source": [
        "class A:\n",
        "  a = 100\n",
        "  b = 200\n",
        "class B(A):\n",
        "  a = 500\n",
        "  def s(self):\n",
        "    print(self.a+self.b)\n",
        "  pass\n",
        "ob1 = B()\n",
        "ob1.s()\n"
      ],
      "metadata": {
        "id": "9E8fEumxjEyB"
      },
      "execution_count": null,
      "outputs": []
    },
    {
      "cell_type": "code",
      "source": [
        "class A:\n",
        "  a = 100\n",
        "  b = 200\n",
        "class B(A):\n",
        "  a = 300 \n",
        "  def s(self):\n",
        "    print(self.a+self.b)\n",
        "  pass\n",
        "ob1 = B()\n",
        "ob1.s()\n"
      ],
      "metadata": {
        "id": "dW78Jtt2j64i"
      },
      "execution_count": null,
      "outputs": []
    },
    {
      "cell_type": "code",
      "source": [
        "class A:\n",
        "  a = 100\n",
        "  b = 200\n",
        "  def s(self):\n",
        "    print(self.a + self.b)\n",
        "class B(A): \n",
        "  def s1(self, c):\n",
        "    print(self.a + self.b + c)\n",
        "  pass\n",
        "ob1 = B()\n",
        "ob1.s1(300)"
      ],
      "metadata": {
        "id": "4E97DBPfkKYQ"
      },
      "execution_count": null,
      "outputs": []
    },
    {
      "cell_type": "code",
      "source": [
        "class A:\n",
        "  def __init__(self):\n",
        "    print(\"parent class\")\n",
        "class B:\n",
        "  def __init__(self):\n",
        "    A.__init__(self)\n",
        "    print(\"child class\")\n",
        "ob1 = B()"
      ],
      "metadata": {
        "id": "yKyw75v-k1Ve"
      },
      "execution_count": null,
      "outputs": []
    },
    {
      "cell_type": "code",
      "source": [
        "class A:\n",
        "  def __init__(self):\n",
        "    print(\"parent class\")\n",
        "class B(A):\n",
        "  def __init__(self):\n",
        "    print(\"child class\")\n",
        "ob1 = B()"
      ],
      "metadata": {
        "id": "fRyJY_iClHRr"
      },
      "execution_count": null,
      "outputs": []
    },
    {
      "cell_type": "code",
      "source": [
        "class A:\n",
        "  def __init__(self, a, b):\n",
        "    print(a+b)\n",
        "class B(A):\n",
        "  def __init__(self, x, y):\n",
        "    A.__init__(self, x, y)\n",
        "ob1 = B(100, 200)"
      ],
      "metadata": {
        "id": "8aqlximXjQX5"
      },
      "execution_count": null,
      "outputs": []
    },
    {
      "cell_type": "code",
      "source": [
        "class stu_name:\n",
        "  def sname(self):\n",
        "    self.name = \"Ramesh\"\n",
        "    print(self.name)\n",
        "class add_sap(stu_name):\n",
        "  def sap(self):\n",
        "    self.roll = 50001234\n",
        "    print(self.roll)\n",
        "    \n",
        "ch_obj = add_sap()\n",
        "ch_obj.sname()\n",
        "ch_obj.sap()"
      ],
      "metadata": {
        "id": "rPU4b8KogC2x"
      },
      "execution_count": null,
      "outputs": []
    },
    {
      "cell_type": "markdown",
      "source": [
        "###super() function"
      ],
      "metadata": {
        "id": "zQ6UgEy5ns9Z"
      }
    },
    {
      "cell_type": "code",
      "source": [
        "class A:\n",
        "  def fun_a(self):\n",
        "    print(\"class A\")\n",
        "class B(A):\n",
        "  def fun_b(self):\n",
        "    print(\"class B\")\n",
        "    A.fun_a(self)\n",
        "ob1 = B()\n",
        "ob1.fun_b()"
      ],
      "metadata": {
        "id": "egSUSOUYpz2U"
      },
      "execution_count": null,
      "outputs": []
    },
    {
      "cell_type": "code",
      "source": [
        "class A:\n",
        "  def fun_a(self):\n",
        "    print(\"class A\")\n",
        "class B(A):\n",
        "  def fun_b(self):\n",
        "    print(\"class B\")\n",
        "    super(B, self).fun_a()\n",
        "ob1 = B()\n",
        "ob1.fun_b()"
      ],
      "metadata": {
        "id": "nqcOSuuHqTBQ"
      },
      "execution_count": null,
      "outputs": []
    },
    {
      "cell_type": "code",
      "source": [
        "class A:\n",
        "  def fun_a(self):\n",
        "    print(\"class A\")\n",
        "class B(A):\n",
        "  def fun_b(self):\n",
        "    print(\"class B\")\n",
        "    super().fun_a()\n",
        "ob1 = B()\n",
        "ob1.fun_b()"
      ],
      "metadata": {
        "id": "wMtnsIRxqfCL"
      },
      "execution_count": null,
      "outputs": []
    },
    {
      "cell_type": "code",
      "source": [
        "class A:\n",
        "  def fun_a(self):\n",
        "    print(\"class A\")\n",
        "class B(A):\n",
        "  def fun_b(self):\n",
        "    print(\"class B\")\n",
        "    super().fun_a(self)\n",
        "ob1 = B()\n",
        "ob1.fun_b()"
      ],
      "metadata": {
        "id": "-rQPCtcSqn7-"
      },
      "execution_count": null,
      "outputs": []
    },
    {
      "cell_type": "code",
      "source": [
        "class A:\n",
        "  def __init__(self):\n",
        "    print(\"parent class\")\n",
        "class B(A):\n",
        "  def __init__(self):\n",
        "    super(B, self).__init__()\n",
        "    print(\"child class\")\n",
        "ob1 = B()"
      ],
      "metadata": {
        "id": "9Vb7jtsjnxMi"
      },
      "execution_count": null,
      "outputs": []
    },
    {
      "cell_type": "code",
      "source": [
        "class A:\n",
        "  a = 100\n",
        "class B(A):\n",
        "  a = 200\n",
        "  def __init__(self):\n",
        "    print(self.a+super().a)\n",
        "ob1 = B()\n"
      ],
      "metadata": {
        "id": "OoIFL1YZsEea"
      },
      "execution_count": null,
      "outputs": []
    },
    {
      "cell_type": "code",
      "source": [
        "class A:\n",
        "  l1 = [1, 2, 3, 4]\n",
        "class B(A):\n",
        "  l2 = [10, 20, 30, 40]\n",
        "  def zip_(self):\n",
        "    print(list(zip(super().l1, self.l2)))\n",
        "ob1 = B()\n",
        "ob1.zip_()"
      ],
      "metadata": {
        "id": "b5KeruwFrcH1"
      },
      "execution_count": null,
      "outputs": []
    },
    {
      "cell_type": "markdown",
      "source": [
        "##TYPES OF INHERITANCE"
      ],
      "metadata": {
        "id": "SrA53n5Ks44J"
      }
    },
    {
      "cell_type": "code",
      "source": [
        "class A:\n",
        "  pass\n",
        "class C:\n",
        "  pass\n",
        "class B(A, C):\n",
        "  pass\n",
        "\n",
        "ob1 = B()"
      ],
      "metadata": {
        "id": "kan3Z0l3ucqc"
      },
      "execution_count": null,
      "outputs": []
    },
    {
      "cell_type": "code",
      "source": [
        "class A:\n",
        "  def f1(self):\n",
        "    print(\"hello\", end='')\n",
        "class B(A):\n",
        "  def f2(self):\n",
        "    print(\" world\")\n",
        "ob1 = B()\n",
        "ob1.f1()\n",
        "ob1.f2()"
      ],
      "metadata": {
        "id": "5-Xsq2Upusof"
      },
      "execution_count": null,
      "outputs": []
    },
    {
      "cell_type": "code",
      "source": [
        "class A:\n",
        "  def f1(self):\n",
        "    print(\"hello\", end = '')\n",
        "class B(A):\n",
        "  def f2(self):\n",
        "    super().f1()\n",
        "    print(\" world\")\n",
        "ob1 = B()\n",
        "ob1.f2()"
      ],
      "metadata": {
        "id": "-nXvBqwQuGKv"
      },
      "execution_count": null,
      "outputs": []
    },
    {
      "cell_type": "code",
      "source": [
        "class A:\n",
        "  def fun_a(self):\n",
        "    self.str_a = \"hello how are you doing\"\n",
        "class B(A):\n",
        "  def count_words_b(self):\n",
        "    \n",
        "    l1 = self.str_a.split()\n",
        "    print(len(l1))\n",
        "ob1 = B()"
      ],
      "metadata": {
        "id": "DJvHF8pLs3zZ"
      },
      "execution_count": null,
      "outputs": []
    },
    {
      "cell_type": "markdown",
      "source": [
        "## MULTIPLE INHERITANCE"
      ],
      "metadata": {
        "id": "OMl4F8ZavTCu"
      }
    },
    {
      "cell_type": "code",
      "source": [
        "class A:\n",
        "  pass\n",
        "class B:\n",
        "  pass\n",
        "class C(A, B):\n",
        "  pass\n",
        "ob1 = C()"
      ],
      "metadata": {
        "id": "9pisjx5tvV-z"
      },
      "execution_count": null,
      "outputs": []
    },
    {
      "cell_type": "code",
      "source": [
        "class A:\n",
        "  def fa(self):\n",
        "    print(\"class A\")\n",
        "class B:\n",
        "  def fb(self):\n",
        "    print(\"class B\")\n",
        "class C(A, B):\n",
        "  def fc(self):\n",
        "    print(\"class C\")\n",
        "obj_c = C()\n",
        "obj_c.fa()\n",
        "obj_c.fb()\n",
        "obj_c.fc()\n"
      ],
      "metadata": {
        "id": "u-3G7y7Pvp_t"
      },
      "execution_count": null,
      "outputs": []
    },
    {
      "cell_type": "code",
      "source": [
        "class A:\n",
        "  def __init__(self):\n",
        "    self.a = 100\n",
        "class B:\n",
        "  def __init__(self):\n",
        "    self.b = 100\n",
        "class C(A,B):\n",
        "  def f3(self):\n",
        "    A.__init__(self)\n",
        "    B.__init__(self)\n",
        "    print(self.a + self.b)\n",
        "obj_c = C()\n",
        "obj_c.f3()"
      ],
      "metadata": {
        "id": "HCsmdMJPzL21"
      },
      "execution_count": null,
      "outputs": []
    },
    {
      "cell_type": "code",
      "source": [
        "class A:\n",
        "  def f1(self):\n",
        "    self.a = 100\n",
        "class B:\n",
        "  def f2(self):\n",
        "    self.b = 100\n",
        "class C(A,B):\n",
        "  def f3(self):\n",
        "    A.f1(self)\n",
        "    B.f2(self)\n",
        "    print(self.a + self.b)\n",
        "obj_c = C()\n",
        "obj_c.f3()"
      ],
      "metadata": {
        "id": "kSEf5flVwJot"
      },
      "execution_count": null,
      "outputs": []
    },
    {
      "cell_type": "code",
      "source": [
        "class A:\n",
        "  def f1(self):\n",
        "    self.a = 100\n",
        "class B:\n",
        "  def f2(self):\n",
        "    self.b = 100\n",
        "class C(A,B):\n",
        "  def f3(self):\n",
        "    super().f1()\n",
        "    super().f2()\n",
        "    print(self.a + self.b)\n",
        "obj_c = C()\n",
        "obj_c.f3()"
      ],
      "metadata": {
        "id": "tU-Z72wDz35Z"
      },
      "execution_count": null,
      "outputs": []
    },
    {
      "cell_type": "markdown",
      "source": [
        "##MULTI-LEVEL INHERITANCE"
      ],
      "metadata": {
        "id": "O2E30K0J1DBB"
      }
    },
    {
      "cell_type": "code",
      "source": [
        "class A:\n",
        "  pass\n",
        "class B(A):\n",
        "  pass\n",
        "class C(B):\n",
        "  pass\n",
        "\n",
        "ob1 = C()"
      ],
      "metadata": {
        "id": "yRtftrmW1pQY"
      },
      "execution_count": null,
      "outputs": []
    },
    {
      "cell_type": "code",
      "source": [
        "class A:\n",
        "  def f1(self):\n",
        "    print(\"A\")\n",
        "class B(A):\n",
        "  def f2(self):\n",
        "    print(\"B\")\n",
        "class C(B):\n",
        "  def f3(self):\n",
        "    print(\"C\")\n",
        "\n",
        "ob1 = C()\n",
        "ob1.f1()\n",
        "ob1.f2()\n",
        "ob1.f3()"
      ],
      "metadata": {
        "id": "Uy8X9_KH2A73"
      },
      "execution_count": null,
      "outputs": []
    },
    {
      "cell_type": "code",
      "source": [
        "class A:\n",
        "  def f1(self):\n",
        "    print(\"A\")\n",
        "class B(A):\n",
        "  def f2(self):\n",
        "    super().f1()\n",
        "    print(\"B\")\n",
        "class C(B):\n",
        "  def f3(self):\n",
        "    super().f2()\n",
        "    print(\"C\")\n",
        "\n",
        "ob1 = C()\n",
        "ob1.f3()"
      ],
      "metadata": {
        "id": "HNaU_xHu1JTf"
      },
      "execution_count": null,
      "outputs": []
    },
    {
      "cell_type": "markdown",
      "source": [
        "###Hierarchical inheritance"
      ],
      "metadata": {
        "id": "M8Hpb1cX3Qky"
      }
    },
    {
      "cell_type": "code",
      "source": [
        "class A:\n",
        "  pass\n",
        "class B(A):\n",
        "  pass\n",
        "class C(A):\n",
        "  pass\n",
        "\n",
        "ob1 = C()\n"
      ],
      "metadata": {
        "id": "CqMaovkA3QIs"
      },
      "execution_count": null,
      "outputs": []
    },
    {
      "cell_type": "markdown",
      "source": [
        "###ABSTRACT CLASS"
      ],
      "metadata": {
        "id": "FM8nohvIx5n2"
      }
    },
    {
      "cell_type": "code",
      "source": [
        "from abc import ABC, abstractmethod\n",
        "class A(ABC):\n",
        "  @abstractmethod\n",
        "  def abs_meth(self):\n",
        "    print(\"B\")\n",
        "class B(A):\n",
        "  print(\"A\")\n",
        "\n",
        "ob = A()\n",
        "ob.abs_meth()"
      ],
      "metadata": {
        "id": "NFB4PmcCx4zx"
      },
      "execution_count": null,
      "outputs": []
    },
    {
      "cell_type": "code",
      "source": [
        "from abc import ABC, abstractmethod\n",
        "class A(ABC):\n",
        "  @abstractmethod\n",
        "  def abs_meth(self):\n",
        "    pass\n",
        "class B(A):\n",
        "  pass\n",
        "\n",
        "ob = B()\n",
        "ob.abs_meth()"
      ],
      "metadata": {
        "id": "glq6dFCv11cd"
      },
      "execution_count": null,
      "outputs": []
    },
    {
      "cell_type": "code",
      "source": [
        "from abc import ABC, abstractmethod\n",
        "class A(ABC):\n",
        "  @abstractmethod\n",
        "  def abs_meth(self):\n",
        "    pass\n",
        "class B(A):\n",
        "  def abs_meth(self):\n",
        "    print(\"implement abstract method\")\n",
        " \n",
        "ob = B()\n",
        "ob.abs_meth()"
      ],
      "metadata": {
        "id": "nzbgfV4g2Dr_"
      },
      "execution_count": null,
      "outputs": []
    },
    {
      "cell_type": "code",
      "source": [
        "from abc import ABC, abstractmethod\n",
        "class area(ABC):\n",
        "  @abstractmethod\n",
        "  def dis_area(self, a, b):\n",
        "    pass\n",
        "class area_rectangle(area):\n",
        "  def dis_area(self, a, b):\n",
        "    print(a*b)\n",
        "ob1 = area_rectangle()\n",
        "ob1.dis_area(10, 20)\n",
        "    "
      ],
      "metadata": {
        "id": "x5Q5RSxE2imS"
      },
      "execution_count": null,
      "outputs": []
    },
    {
      "cell_type": "code",
      "source": [
        "from abc import ABC, abstractmethod\n",
        "class A(ABC):\n",
        "  def fun1(self):\n",
        "    print(\"hello\")\n",
        "class B(A):\n",
        "  pass\n",
        " \n",
        "ob = A()\n",
        "ob.fun1()"
      ],
      "metadata": {
        "id": "XLW7ZqvO3skb"
      },
      "execution_count": null,
      "outputs": []
    },
    {
      "cell_type": "code",
      "source": [
        "class A:\n",
        "  def input(self, a, b):\n",
        "    pass\n",
        "class A_rec(A):\n",
        "  def input(self, a, b):\n",
        "    print(a*b)\n",
        "class A_square(A):\n",
        "  def input(self, a):\n",
        "    print(a*a)\n",
        "ob1 = A_rec()\n",
        "ob1.input(10, 20)\n",
        "ob2 = A_square()\n",
        "ob2.input(10)\n"
      ],
      "metadata": {
        "id": "UcdhqdYX4jrJ"
      },
      "execution_count": null,
      "outputs": []
    },
    {
      "cell_type": "markdown",
      "source": [
        "###OVERLOADING"
      ],
      "metadata": {
        "id": "1AfwYtn52z66"
      }
    },
    {
      "cell_type": "code",
      "source": [
        "class A:\n",
        "  def __init__(self, a):\n",
        "    self.x = a\n",
        "    \n",
        "ob1 = A(10)\n",
        "ob2 = A(20)\n",
        "\n",
        "sum = ob1+ob2\n",
        "print(sum)"
      ],
      "metadata": {
        "id": "KIsaJc9U6BcG"
      },
      "execution_count": null,
      "outputs": []
    },
    {
      "cell_type": "code",
      "source": [
        "class A:\n",
        "  def __init__(self):\n",
        "    self.a = 100\n",
        "    print(id(self))\n",
        "  \n",
        "ob1 = A()\n",
        "print(id(ob1))\n"
      ],
      "metadata": {
        "id": "pcYguxfC7iwH"
      },
      "execution_count": null,
      "outputs": []
    },
    {
      "cell_type": "code",
      "source": [
        "class A:\n",
        "  def input(self):\n",
        "    self.a = 100\n",
        "  def display(self):\n",
        "    print(self.a)\n",
        "ob1 = A()\n",
        "ob1.input()\n",
        "ob2 = A()\n",
        "ob2.display()"
      ],
      "metadata": {
        "id": "E0f5dw9291H6"
      },
      "execution_count": null,
      "outputs": []
    },
    {
      "cell_type": "code",
      "source": [
        "class A:\n",
        "  def input(self):\n",
        "    self.a = 100\n",
        "  def display(self):\n",
        "    print(self.a)\n",
        "ob1 = A()\n",
        "ob1.input()\n",
        "ob2 = A()\n",
        "ob2.display()"
      ],
      "metadata": {
        "id": "1UaPwxvb88mz"
      },
      "execution_count": null,
      "outputs": []
    },
    {
      "cell_type": "code",
      "source": [
        "class A:\n",
        "  def input(self):\n",
        "    self.a = 100\n",
        "  def display(self, x):\n",
        "    print(x.a)\n",
        "ob1 = A()\n",
        "ob1.input()\n",
        "ob2 = A()\n",
        "ob2.display(ob1)"
      ],
      "metadata": {
        "id": "mbJfc_wI_nNf"
      },
      "execution_count": null,
      "outputs": []
    },
    {
      "cell_type": "markdown",
      "source": [
        ""
      ],
      "metadata": {
        "id": "t7tupL2V7iW5"
      }
    },
    {
      "cell_type": "code",
      "source": [
        "class A:\n",
        "  def __init__(self, a):\n",
        "    self.x = a\n",
        "  def __add__(self, other):\n",
        "    print(id(other))\n",
        "    return self.x + other.x\n",
        "\n",
        "ob1 = A(10)\n",
        "ob2 = A(20)\n",
        "\n",
        "sum = ob1+ob2\n",
        "print(id(ob2))\n",
        "print(sum)"
      ],
      "metadata": {
        "id": "p6rPUljg22Gk"
      },
      "execution_count": null,
      "outputs": []
    },
    {
      "cell_type": "code",
      "source": [
        "class A:\n",
        "  def __init__(self, a):\n",
        "    self.x = a\n",
        "  def __sub__(self, other):\n",
        "    print(id(other))\n",
        "    return self.x - other.x\n",
        "\n",
        "ob1 = A(10)\n",
        "ob2 = A(20)\n",
        "\n",
        "sum = ob1-ob2\n",
        "print(id(ob2))\n",
        "print(sum)"
      ],
      "metadata": {
        "id": "G5QOgnE5Ax-4"
      },
      "execution_count": null,
      "outputs": []
    },
    {
      "cell_type": "code",
      "source": [
        "class A:\n",
        "  def __init__(self, a):\n",
        "    self.x = a\n",
        "  def __It__(self, other):\n",
        "    return self.x < other.x\n",
        "\n",
        "ob1 = A(10)\n",
        "ob2 = A(20)\n",
        "\n",
        "sum = ob1< ob2\n",
        "print(id(ob2))\n",
        "print(sum)"
      ],
      "metadata": {
        "id": "ajcb_fZ1CDP4"
      },
      "execution_count": null,
      "outputs": []
    },
    {
      "cell_type": "code",
      "source": [
        "class A:\n",
        "    def __init__(self, a):\n",
        "        self.x = a\n",
        "    def __lt__(self, other):\n",
        "      print(id(other))\n",
        "      return self.x< other.x\n",
        "\n",
        "ob1= A(10)\n",
        "ob2= A(30)\n",
        "compare=ob1 < ob2\n",
        "print(compare, id(ob2))"
      ],
      "metadata": {
        "id": "QTH7_68_BTLj"
      },
      "execution_count": null,
      "outputs": []
    },
    {
      "cell_type": "code",
      "source": [
        "class A:\n",
        "    def __init__(self):\n",
        "        self.x = int(input())\n",
        "    def __lt__(self, other):\n",
        "      a1 = self.x if self.x < other.x else other.x\n",
        "      return a1\n",
        "\n",
        "\n",
        "ob1= A()\n",
        "ob2= A()\n",
        "compare= ob1 < ob2\n",
        "print(compare)"
      ],
      "metadata": {
        "id": "oHn_QNPiE-HQ"
      },
      "execution_count": null,
      "outputs": []
    },
    {
      "cell_type": "markdown",
      "source": [
        "###METHOD OVERLOADING"
      ],
      "metadata": {
        "id": "gvziyGP1E-1B"
      }
    },
    {
      "cell_type": "code",
      "source": [
        "class A:\n",
        "  def show(self, a=None, b=None):\n",
        "    print(a, b)\n",
        "ob1=A()\n",
        "ob1.show()\n",
        "ob1.show(10)\n",
        "ob1.show(10, 20)"
      ],
      "metadata": {
        "id": "YMYtN8FIFLa1"
      },
      "execution_count": null,
      "outputs": []
    },
    {
      "cell_type": "code",
      "source": [
        "def show(a):\n",
        "  print(a)\n",
        "def show(a, b):\n",
        "  print(a, b)\n",
        "\n",
        "\n",
        "\n",
        "show(10, 20)"
      ],
      "metadata": {
        "id": "ZK0hJqyZH1ns"
      },
      "execution_count": null,
      "outputs": []
    }
  ]
}