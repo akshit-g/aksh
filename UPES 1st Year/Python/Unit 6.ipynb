{
  "cells": [
    {
      "cell_type": "code",
      "execution_count": null,
      "metadata": {
        "id": "vx9RY9-7chNb"
      },
      "outputs": [],
      "source": [
        "import numpy as np\n",
        "arr = np.array([1, 2, 3, 4, 5])\n",
        "print(arr)"
      ]
    },
    {
      "cell_type": "code",
      "execution_count": null,
      "metadata": {
        "id": "fAnXo6uji88v"
      },
      "outputs": [],
      "source": [
        "import numpy as np\n",
        "arr = np.array((1, 2, 3, 4, 5))\n",
        "print(arr)"
      ]
    },
    {
      "cell_type": "code",
      "execution_count": null,
      "metadata": {
        "id": "VNlcT3JDkE5Z",
        "colab": {
          "base_uri": "https://localhost:8080/"
        },
        "outputId": "22b71d6c-20f8-439f-ec8d-cde9e66d41e5"
      },
      "outputs": [
        {
          "output_type": "stream",
          "name": "stdout",
          "text": [
            "0\n",
            "1\n",
            "3\n",
            "3\n"
          ]
        }
      ],
      "source": [
        "import numpy as np\n",
        "\n",
        "a = np.array(1)\n",
        "b = np.array([1, 2, 3, 4, 5, 6])\n",
        "c = np.array([[[1, 2, 3], [4, 5, 6]]])\n",
        "d = np.array([[[1, 2, 3], [4, 5, 6]], [[1, 2, 3], [4, 5, 6]]])\n",
        "\n",
        "print(a.ndim)\n",
        "print(b.ndim)\n",
        "print(c.ndim)\n",
        "print(d.ndim)"
      ]
    },
    {
      "cell_type": "code",
      "execution_count": null,
      "metadata": {
        "id": "IkVEvn4_k-pk"
      },
      "outputs": [],
      "source": [
        "import numpy as np\n",
        "\n",
        "a2 = np.array([1, 2, 3, 4], ndmin=2)\n",
        "a3 = np.array([1, 2, 3, 4], ndmin=3)\n",
        "a4 = np.array([1, 2, 3, 4], ndmin=4)\n",
        "\n",
        "print(a2, a3, a4)\n",
        "print('number of dimensions :', a2.ndim, a3.ndim, a4.ndim)"
      ]
    },
    {
      "cell_type": "code",
      "execution_count": null,
      "metadata": {
        "colab": {
          "background_save": true
        },
        "id": "k96htPfs8IhZ",
        "outputId": "33876288-d1d5-4c32-978a-d568373afb6b"
      },
      "outputs": [
        {
          "name": "stdout",
          "output_type": "stream",
          "text": [
            "1\n",
            "1\n",
            "1\n",
            "[[1 2 3 4]] [[[1 2 3 4]]] [[[[1 2 3 4]]]]\n",
            "number of dimensions : 2 3 4\n"
          ]
        }
      ],
      "source": [
        "import numpy as np\n",
        "\n",
        "a2 = np.array([1, 2, 3, 4], ndmin=2)\n",
        "a3 = np.array([1, 2, 3, 4], ndmin=3)\n",
        "a4 = np.array([1, 2, 3, 4], ndmin=4)\n",
        "print(a2[0,0])\n",
        "print(a3[0,0,0])\n",
        "print(a4[0,0,0,0])\n",
        "\n",
        "print(a2, a3, a4)\n",
        "print('number of dimensions :', a2.ndim, a3.ndim, a4.ndim)"
      ]
    },
    {
      "cell_type": "code",
      "execution_count": null,
      "metadata": {
        "id": "KDWxbt14Wz4B"
      },
      "outputs": [],
      "source": [
        "import numpy as np\n",
        "a4 = np.array([1, 2, 3, 4], dmin=4)\n",
        "print(a4)"
      ]
    },
    {
      "cell_type": "code",
      "execution_count": null,
      "metadata": {
        "id": "z961PRZ2lfSc"
      },
      "outputs": [],
      "source": [
        "import matplotlib.image as img\n",
        "import matplotlib.pyplot as plt"
      ]
    },
    {
      "cell_type": "code",
      "execution_count": null,
      "metadata": {
        "id": "eL011AGZmFg-"
      },
      "outputs": [],
      "source": [
        "img1 = img.imread(\"panda.jpg\")\n",
        "plt.imshow(img1)"
      ]
    },
    {
      "cell_type": "code",
      "execution_count": null,
      "metadata": {
        "id": "UjTvePhHmZzF"
      },
      "outputs": [],
      "source": [
        "print(img1.ndim)\n",
        "print(img1.shape)\n",
        "plt.imshow(img1[:,:,0])"
      ]
    },
    {
      "cell_type": "code",
      "execution_count": null,
      "metadata": {
        "id": "QdI3PJC_A4EC"
      },
      "outputs": [],
      "source": [
        "print(img1.ndim)\n",
        "print(img1.shape)\n",
        "plt.imshow(img1[:,:,1])"
      ]
    },
    {
      "cell_type": "code",
      "execution_count": null,
      "metadata": {
        "id": "QBq__fWxA6kH"
      },
      "outputs": [],
      "source": [
        "print(img1.ndim)\n",
        "print(img1.shape)\n",
        "plt.imshow(img1[:,:,2])"
      ]
    },
    {
      "cell_type": "code",
      "execution_count": null,
      "metadata": {
        "id": "nCK5YVWYnRam"
      },
      "outputs": [],
      "source": [
        "print(img1[:,:,0])"
      ]
    },
    {
      "cell_type": "code",
      "execution_count": null,
      "metadata": {
        "id": "lyBfEHUGxS46"
      },
      "outputs": [],
      "source": [
        "print(img1[:,:,1][0][1])"
      ]
    },
    {
      "cell_type": "code",
      "execution_count": null,
      "metadata": {
        "id": "nJHAPiIuont6"
      },
      "outputs": [],
      "source": [
        "a = np.array(range(1, 6))\n",
        "print(a)\n",
        "print(a.dtype)"
      ]
    },
    {
      "cell_type": "code",
      "execution_count": null,
      "metadata": {
        "id": "nDWjQM5Xo9mo"
      },
      "outputs": [],
      "source": [
        "b = a.astype(float)\n",
        "print(b.dtype)"
      ]
    },
    {
      "cell_type": "code",
      "execution_count": null,
      "metadata": {
        "id": "-JMIhFQGpib1",
        "colab": {
          "base_uri": "https://localhost:8080/"
        },
        "outputId": "5f61c90a-4af6-4b29-d9e3-420d304c36b0"
      },
      "outputs": [
        {
          "output_type": "stream",
          "name": "stdout",
          "text": [
            "[[4607182418800017408 4607182418800017408]\n",
            " [4607182418800017408 4607182418800017408]]\n",
            "[[0. 0.]\n",
            " [0. 0.]]\n",
            "[1 3 5 7 9]\n"
          ]
        }
      ],
      "source": [
        "a1 = np.empty ([2, 2], dtype=int)\n",
        "print(a1)#random values \n",
        "a2=np.zeros([2,2])\n",
        "a3=np.ones([2,2])\n",
        "print(a3-1)\n",
        "a4=np.arange(1,10,2,int) #start, stop, step, dtype\n",
        "print(a4)\n"
      ]
    },
    {
      "cell_type": "markdown",
      "metadata": {
        "id": "9IJFddXnstfm"
      },
      "source": [
        "###indexing "
      ]
    },
    {
      "cell_type": "code",
      "execution_count": null,
      "metadata": {
        "id": "n6CaH6IGsvU3",
        "colab": {
          "base_uri": "https://localhost:8080/"
        },
        "outputId": "8de0b31a-426a-47b0-fd41-b96bbc59a1a2"
      },
      "outputs": [
        {
          "output_type": "stream",
          "name": "stdout",
          "text": [
            "11 5\n"
          ]
        }
      ],
      "source": [
        "import numpy as np\n",
        "arr = np.array([[[1, 2, 3], [4, 5, 6]], [[7, 8, 9], [10, 11, 12]]])\n",
        "print(arr[1, 1, 1], (arr[0, 1, 1]))"
      ]
    },
    {
      "cell_type": "code",
      "execution_count": null,
      "metadata": {
        "id": "s-9CbaRLtQNp",
        "colab": {
          "base_uri": "https://localhost:8080/"
        },
        "outputId": "fdb60109-afdc-46db-aec4-f7d0c62c676e"
      },
      "outputs": [
        {
          "output_type": "stream",
          "name": "stdout",
          "text": [
            "(2, 5)\n",
            "10\n",
            "[ 6  7  8  9 10]\n",
            "(1, 2, 5)\n",
            "[1 2 3 4 5]\n"
          ]
        }
      ],
      "source": [
        "import numpy as np\n",
        "\n",
        "arr = np.array([[1,2,3,4,5], [6,7,8,9,10]])\n",
        "\n",
        "print(arr.shape)\n",
        "print(arr[1, -1])\n",
        "print(arr[1, :])\n",
        "\n",
        "arr = arr[None, :, :]\n",
        "print(arr.shape)\n",
        "print(arr[0, 0, :])"
      ]
    },
    {
      "cell_type": "code",
      "execution_count": null,
      "metadata": {
        "id": "XqRsQHgwYgxC",
        "colab": {
          "base_uri": "https://localhost:8080/"
        },
        "outputId": "995ec2dc-1662-49f3-b4be-f4eeb2358d93"
      },
      "outputs": [
        {
          "output_type": "stream",
          "name": "stdout",
          "text": [
            "[9] 4\n"
          ]
        }
      ],
      "source": [
        "import numpy as np\n",
        "arr = np.array([[1,2,3,4,5], [6,7,8,9,10]])\n",
        "arr = arr[None, None,  :, :]\n",
        "print(arr[:, 0, 1, 3], arr.ndim)"
      ]
    },
    {
      "cell_type": "code",
      "execution_count": null,
      "metadata": {
        "id": "b25bdyC-vG10",
        "colab": {
          "base_uri": "https://localhost:8080/"
        },
        "outputId": "ba25b1dc-bb46-4760-c0ab-34966b890097"
      },
      "outputs": [
        {
          "output_type": "stream",
          "name": "stdout",
          "text": [
            "[5 6 7]\n",
            "[1 2 3 4 5 6]\n",
            "[2 3 4 5 6]\n",
            "[]\n",
            "[]\n"
          ]
        }
      ],
      "source": [
        "import numpy as np\n",
        "\n",
        "a = np.array([1, 2, 3, 4, 5, 6, 7])\n",
        "\n",
        "print(a[4:])\n",
        "print(a[:-1])\n",
        "print(a[1:-1])\n",
        "print(a[-1:-1])\n",
        "print(a[0:0])"
      ]
    },
    {
      "cell_type": "markdown",
      "metadata": {
        "id": "3dXxrBHActMX"
      },
      "source": [
        "###PANDAS"
      ]
    },
    {
      "cell_type": "code",
      "execution_count": null,
      "metadata": {
        "id": "sA6Zjf0TcvTG"
      },
      "outputs": [],
      "source": [
        "import pandas as pd\n",
        "a = [1, 2, 3, 4]\n",
        "\n",
        "s = pd.Series(a)\n",
        "print(s)"
      ]
    },
    {
      "cell_type": "code",
      "execution_count": null,
      "metadata": {
        "id": "2hLQhSIpeARq"
      },
      "outputs": [],
      "source": [
        "import pandas as pd\n",
        "a = [1, 2, 3, 4]\n",
        "s = pd.Series(a, index = ['a', 'b', 'c', 'd'])\n",
        "\n",
        "print(s)"
      ]
    },
    {
      "cell_type": "code",
      "execution_count": null,
      "metadata": {
        "id": "JEwCdNOiew0c"
      },
      "outputs": [],
      "source": [
        "import pandas as pd\n",
        "\n",
        "a = {\"Delhi\": 'Bahadur shah zafer', \"Allahbad\": 'Liyakat Ali', \n",
        "            \"Lucknow\": 'Hazrat Mahal', \"Kanpur\":'NanaSaheb'}\n",
        "\n",
        "s = pd.Series(a)\n",
        "\n",
        "print(s)"
      ]
    },
    {
      "cell_type": "code",
      "execution_count": null,
      "metadata": {
        "id": "pFTyMPj4gu-U",
        "colab": {
          "base_uri": "https://localhost:8080/"
        },
        "outputId": "0e519d24-05a0-4670-e57d-7514297e3d16"
      },
      "outputs": [
        {
          "output_type": "stream",
          "name": "stdout",
          "text": [
            "a    20\n",
            "b    20\n",
            "c    20\n",
            "d    20\n",
            "dtype: int64\n",
            "20\n"
          ]
        }
      ],
      "source": [
        "import pandas as pd\n",
        "s = pd.Series(20, index = ['a', 'b', 'c', 'd'])\n",
        "\n",
        "print(s)\n",
        "print(s[2])"
      ]
    },
    {
      "cell_type": "markdown",
      "metadata": {
        "id": "sxZiWP5ZhGM2"
      },
      "source": [
        "##DATAFRAMES"
      ]
    },
    {
      "cell_type": "code",
      "execution_count": null,
      "metadata": {
        "id": "a2IXEESfhIgD"
      },
      "outputs": [],
      "source": [
        "import pandas as pd\n",
        "import numpy as np"
      ]
    },
    {
      "cell_type": "code",
      "execution_count": null,
      "metadata": {
        "colab": {
          "base_uri": "https://localhost:8080/"
        },
        "id": "PW4BlRCfmGDz",
        "outputId": "e125abaf-0e36-4f83-c5ef-6b05f4e0b2ea"
      },
      "outputs": [
        {
          "name": "stdout",
          "output_type": "stream",
          "text": [
            "   0  1  2\n",
            "0  1  2  3\n",
            "1  4  5  6\n"
          ]
        }
      ],
      "source": [
        "c = np.array([[1, 2, 3], [4, 5, 6]])\n",
        "df = pd.DataFrame(c)\n",
        "print(df)"
      ]
    },
    {
      "cell_type": "code",
      "execution_count": null,
      "metadata": {
        "colab": {
          "base_uri": "https://localhost:8080/"
        },
        "id": "SRo4ECq8cGm-",
        "outputId": "414e83ca-339b-4b20-e95d-565c869c0484"
      },
      "outputs": [
        {
          "name": "stdout",
          "output_type": "stream",
          "text": [
            "2\n"
          ]
        }
      ],
      "source": [
        "import pandas as pd\n",
        "c = np.array([[1, 2, 3], [4, 5, 6]])\n",
        "df = pd.DataFrame(c)\n",
        "print(df.iloc[0,1])"
      ]
    },
    {
      "cell_type": "code",
      "source": [
        "import pandas as pd\n",
        "c = np.array([1, 2, 3])\n",
        "print(c.size)\n",
        "df = pd.DataFrame(c)\n",
        "print(df.shape)\n",
        "#print(df.iloc[0,2])"
      ],
      "metadata": {
        "colab": {
          "base_uri": "https://localhost:8080/"
        },
        "id": "rKNxg2Sp_u0J",
        "outputId": "0522abb0-444d-431a-950e-9dea26591af7"
      },
      "execution_count": null,
      "outputs": [
        {
          "output_type": "stream",
          "name": "stdout",
          "text": [
            "3\n",
            "(3, 1)\n"
          ]
        }
      ]
    },
    {
      "cell_type": "code",
      "execution_count": null,
      "metadata": {
        "colab": {
          "base_uri": "https://localhost:8080/"
        },
        "id": "0MMDYplLhQt0",
        "outputId": "bcd11121-d2f5-4151-e465-2af10afbe2c9"
      },
      "outputs": [
        {
          "output_type": "stream",
          "name": "stdout",
          "text": [
            "                    city Founder and Architect  year\n",
            "0        Francois Martin           pondicherry  1673\n",
            "1           Job Charnock               Kolkata  1690\n",
            "2  Baker & Edwin lutyens                 Delhi  1927\n",
            "3    Jane & Le Corbusier            Chandigarh  1950\n"
          ]
        }
      ],
      "source": [
        "import pandas as pd\n",
        "\n",
        "data = {\n",
        "  \"city\": ['Francois Martin', 'Job Charnock', 'Baker & Edwin lutyens', 'Jane & Le Corbusier'],\n",
        "  \"Founder and Architect\": ['pondicherry', 'Kolkata', 'Delhi', 'Chandigarh'],\n",
        "  \"year\": [1673, 1690, 1927, 1950]\n",
        "}\n",
        "\n",
        "df = pd.DataFrame(data)\n",
        "\n",
        "print(df)\n",
        "df.to_csv('file1.csv')"
      ]
    },
    {
      "cell_type": "code",
      "execution_count": null,
      "metadata": {
        "id": "DCV0wSDVme_Z"
      },
      "outputs": [],
      "source": [
        "df = pd.read_csv('file1.csv')\n",
        "\n",
        "print(df) "
      ]
    },
    {
      "cell_type": "code",
      "execution_count": null,
      "metadata": {
        "colab": {
          "base_uri": "https://localhost:8080/",
          "height": 571
        },
        "id": "7gpXoG3UrFOy",
        "outputId": "d4f194eb-e048-4859-b4ce-a2eaa3d87352"
      },
      "outputs": [
        {
          "output_type": "stream",
          "name": "stdout",
          "text": [
            "   Unnamed: 0                   city Founder and Architect  year\n",
            "0           0        Francois Martin           pondicherry  1673\n",
            "1           1           Job Charnock               Kolkata  1690\n",
            "2           2  Baker & Edwin lutyens                 Delhi  1927\n",
            "3           3    Jane & Le Corbusier            Chandigarh  1950\n",
            "\n"
          ]
        },
        {
          "output_type": "error",
          "ename": "ValueError",
          "evalue": "ignored",
          "traceback": [
            "\u001b[0;31m---------------------------------------------------------------------------\u001b[0m",
            "\u001b[0;31mValueError\u001b[0m                                Traceback (most recent call last)",
            "\u001b[0;32m/usr/local/lib/python3.7/dist-packages/pandas/core/indexing.py\u001b[0m in \u001b[0;36m_has_valid_tuple\u001b[0;34m(self, key)\u001b[0m\n\u001b[1;32m    753\u001b[0m             \u001b[0;32mtry\u001b[0m\u001b[0;34m:\u001b[0m\u001b[0;34m\u001b[0m\u001b[0;34m\u001b[0m\u001b[0m\n\u001b[0;32m--> 754\u001b[0;31m                 \u001b[0mself\u001b[0m\u001b[0;34m.\u001b[0m\u001b[0m_validate_key\u001b[0m\u001b[0;34m(\u001b[0m\u001b[0mk\u001b[0m\u001b[0;34m,\u001b[0m \u001b[0mi\u001b[0m\u001b[0;34m)\u001b[0m\u001b[0;34m\u001b[0m\u001b[0;34m\u001b[0m\u001b[0m\n\u001b[0m\u001b[1;32m    755\u001b[0m             \u001b[0;32mexcept\u001b[0m \u001b[0mValueError\u001b[0m \u001b[0;32mas\u001b[0m \u001b[0merr\u001b[0m\u001b[0;34m:\u001b[0m\u001b[0;34m\u001b[0m\u001b[0;34m\u001b[0m\u001b[0m\n",
            "\u001b[0;32m/usr/local/lib/python3.7/dist-packages/pandas/core/indexing.py\u001b[0m in \u001b[0;36m_validate_key\u001b[0;34m(self, key, axis)\u001b[0m\n\u001b[1;32m   1425\u001b[0m         \u001b[0;32melse\u001b[0m\u001b[0;34m:\u001b[0m\u001b[0;34m\u001b[0m\u001b[0;34m\u001b[0m\u001b[0m\n\u001b[0;32m-> 1426\u001b[0;31m             \u001b[0;32mraise\u001b[0m \u001b[0mValueError\u001b[0m\u001b[0;34m(\u001b[0m\u001b[0;34mf\"Can only index by location with a [{self._valid_types}]\"\u001b[0m\u001b[0;34m)\u001b[0m\u001b[0;34m\u001b[0m\u001b[0;34m\u001b[0m\u001b[0m\n\u001b[0m\u001b[1;32m   1427\u001b[0m \u001b[0;34m\u001b[0m\u001b[0m\n",
            "\u001b[0;31mValueError\u001b[0m: Can only index by location with a [integer, integer slice (START point is INCLUDED, END point is EXCLUDED), listlike of integers, boolean array]",
            "\nThe above exception was the direct cause of the following exception:\n",
            "\u001b[0;31mValueError\u001b[0m                                Traceback (most recent call last)",
            "\u001b[0;32m<ipython-input-41-03a27e8ed604>\u001b[0m in \u001b[0;36m<module>\u001b[0;34m()\u001b[0m\n\u001b[1;32m      8\u001b[0m \u001b[0;31m#print(df.iloc[:,0])\u001b[0m\u001b[0;34m\u001b[0m\u001b[0;34m\u001b[0m\u001b[0;34m\u001b[0m\u001b[0m\n\u001b[1;32m      9\u001b[0m \u001b[0;31m#print()\u001b[0m\u001b[0;34m\u001b[0m\u001b[0;34m\u001b[0m\u001b[0;34m\u001b[0m\u001b[0m\n\u001b[0;32m---> 10\u001b[0;31m \u001b[0mprint\u001b[0m\u001b[0;34m(\u001b[0m\u001b[0mdf\u001b[0m\u001b[0;34m.\u001b[0m\u001b[0miloc\u001b[0m\u001b[0;34m[\u001b[0m\u001b[0;34m:\u001b[0m\u001b[0;34m,\u001b[0m\u001b[0;34m'year'\u001b[0m\u001b[0;34m]\u001b[0m\u001b[0;34m)\u001b[0m\u001b[0;34m\u001b[0m\u001b[0;34m\u001b[0m\u001b[0m\n\u001b[0m\u001b[1;32m     11\u001b[0m \u001b[0mprint\u001b[0m\u001b[0;34m(\u001b[0m\u001b[0;34m)\u001b[0m\u001b[0;34m\u001b[0m\u001b[0;34m\u001b[0m\u001b[0m\n\u001b[1;32m     12\u001b[0m \u001b[0mprint\u001b[0m\u001b[0;34m(\u001b[0m\u001b[0mdf\u001b[0m\u001b[0;34m.\u001b[0m\u001b[0miloc\u001b[0m\u001b[0;34m[\u001b[0m\u001b[0;34m:\u001b[0m\u001b[0;34m,\u001b[0m\u001b[0;34m:\u001b[0m\u001b[0;34m]\u001b[0m\u001b[0;34m)\u001b[0m\u001b[0;34m\u001b[0m\u001b[0;34m\u001b[0m\u001b[0m\n",
            "\u001b[0;32m/usr/local/lib/python3.7/dist-packages/pandas/core/indexing.py\u001b[0m in \u001b[0;36m__getitem__\u001b[0;34m(self, key)\u001b[0m\n\u001b[1;32m    923\u001b[0m                 \u001b[0;32mwith\u001b[0m \u001b[0msuppress\u001b[0m\u001b[0;34m(\u001b[0m\u001b[0mKeyError\u001b[0m\u001b[0;34m,\u001b[0m \u001b[0mIndexError\u001b[0m\u001b[0;34m)\u001b[0m\u001b[0;34m:\u001b[0m\u001b[0;34m\u001b[0m\u001b[0;34m\u001b[0m\u001b[0m\n\u001b[1;32m    924\u001b[0m                     \u001b[0;32mreturn\u001b[0m \u001b[0mself\u001b[0m\u001b[0;34m.\u001b[0m\u001b[0mobj\u001b[0m\u001b[0;34m.\u001b[0m\u001b[0m_get_value\u001b[0m\u001b[0;34m(\u001b[0m\u001b[0;34m*\u001b[0m\u001b[0mkey\u001b[0m\u001b[0;34m,\u001b[0m \u001b[0mtakeable\u001b[0m\u001b[0;34m=\u001b[0m\u001b[0mself\u001b[0m\u001b[0;34m.\u001b[0m\u001b[0m_takeable\u001b[0m\u001b[0;34m)\u001b[0m\u001b[0;34m\u001b[0m\u001b[0;34m\u001b[0m\u001b[0m\n\u001b[0;32m--> 925\u001b[0;31m             \u001b[0;32mreturn\u001b[0m \u001b[0mself\u001b[0m\u001b[0;34m.\u001b[0m\u001b[0m_getitem_tuple\u001b[0m\u001b[0;34m(\u001b[0m\u001b[0mkey\u001b[0m\u001b[0;34m)\u001b[0m\u001b[0;34m\u001b[0m\u001b[0;34m\u001b[0m\u001b[0m\n\u001b[0m\u001b[1;32m    926\u001b[0m         \u001b[0;32melse\u001b[0m\u001b[0;34m:\u001b[0m\u001b[0;34m\u001b[0m\u001b[0;34m\u001b[0m\u001b[0m\n\u001b[1;32m    927\u001b[0m             \u001b[0;31m# we by definition only have the 0th axis\u001b[0m\u001b[0;34m\u001b[0m\u001b[0;34m\u001b[0m\u001b[0;34m\u001b[0m\u001b[0m\n",
            "\u001b[0;32m/usr/local/lib/python3.7/dist-packages/pandas/core/indexing.py\u001b[0m in \u001b[0;36m_getitem_tuple\u001b[0;34m(self, tup)\u001b[0m\n\u001b[1;32m   1504\u001b[0m     \u001b[0;32mdef\u001b[0m \u001b[0m_getitem_tuple\u001b[0m\u001b[0;34m(\u001b[0m\u001b[0mself\u001b[0m\u001b[0;34m,\u001b[0m \u001b[0mtup\u001b[0m\u001b[0;34m:\u001b[0m \u001b[0mtuple\u001b[0m\u001b[0;34m)\u001b[0m\u001b[0;34m:\u001b[0m\u001b[0;34m\u001b[0m\u001b[0;34m\u001b[0m\u001b[0m\n\u001b[1;32m   1505\u001b[0m \u001b[0;34m\u001b[0m\u001b[0m\n\u001b[0;32m-> 1506\u001b[0;31m         \u001b[0mself\u001b[0m\u001b[0;34m.\u001b[0m\u001b[0m_has_valid_tuple\u001b[0m\u001b[0;34m(\u001b[0m\u001b[0mtup\u001b[0m\u001b[0;34m)\u001b[0m\u001b[0;34m\u001b[0m\u001b[0;34m\u001b[0m\u001b[0m\n\u001b[0m\u001b[1;32m   1507\u001b[0m         \u001b[0;32mwith\u001b[0m \u001b[0msuppress\u001b[0m\u001b[0;34m(\u001b[0m\u001b[0mIndexingError\u001b[0m\u001b[0;34m)\u001b[0m\u001b[0;34m:\u001b[0m\u001b[0;34m\u001b[0m\u001b[0;34m\u001b[0m\u001b[0m\n\u001b[1;32m   1508\u001b[0m             \u001b[0;32mreturn\u001b[0m \u001b[0mself\u001b[0m\u001b[0;34m.\u001b[0m\u001b[0m_getitem_lowerdim\u001b[0m\u001b[0;34m(\u001b[0m\u001b[0mtup\u001b[0m\u001b[0;34m)\u001b[0m\u001b[0;34m\u001b[0m\u001b[0;34m\u001b[0m\u001b[0m\n",
            "\u001b[0;32m/usr/local/lib/python3.7/dist-packages/pandas/core/indexing.py\u001b[0m in \u001b[0;36m_has_valid_tuple\u001b[0;34m(self, key)\u001b[0m\n\u001b[1;32m    757\u001b[0m                     \u001b[0;34m\"Location based indexing can only have \"\u001b[0m\u001b[0;34m\u001b[0m\u001b[0;34m\u001b[0m\u001b[0m\n\u001b[1;32m    758\u001b[0m                     \u001b[0;34mf\"[{self._valid_types}] types\"\u001b[0m\u001b[0;34m\u001b[0m\u001b[0;34m\u001b[0m\u001b[0m\n\u001b[0;32m--> 759\u001b[0;31m                 ) from err\n\u001b[0m\u001b[1;32m    760\u001b[0m \u001b[0;34m\u001b[0m\u001b[0m\n\u001b[1;32m    761\u001b[0m     \u001b[0;32mdef\u001b[0m \u001b[0m_is_nested_tuple_indexer\u001b[0m\u001b[0;34m(\u001b[0m\u001b[0mself\u001b[0m\u001b[0;34m,\u001b[0m \u001b[0mtup\u001b[0m\u001b[0;34m:\u001b[0m \u001b[0mtuple\u001b[0m\u001b[0;34m)\u001b[0m \u001b[0;34m->\u001b[0m \u001b[0mbool\u001b[0m\u001b[0;34m:\u001b[0m\u001b[0;34m\u001b[0m\u001b[0;34m\u001b[0m\u001b[0m\n",
            "\u001b[0;31mValueError\u001b[0m: Location based indexing can only have [integer, integer slice (START point is INCLUDED, END point is EXCLUDED), listlike of integers, boolean array] types"
          ]
        }
      ],
      "source": [
        "#iloc is index based\n",
        "df = pd.read_csv('file1.csv')\n",
        "\n",
        "print(df) \n",
        "print()\n",
        "#print(df.iloc[0,2])\n",
        "#print()\n",
        "#print(df.iloc[:,0])\n",
        "#print()\n",
        "print(df.iloc[:,'year'])\n",
        "print()\n",
        "print(df.iloc[:,:])\n",
        "print()\n",
        "print(df.iloc[:,0:2])"
      ]
    },
    {
      "cell_type": "code",
      "execution_count": null,
      "metadata": {
        "colab": {
          "base_uri": "https://localhost:8080/"
        },
        "id": "Nnq0COsF0WG8",
        "outputId": "e4707014-b4fd-4ba5-8393-e8586207ca90"
      },
      "outputs": [
        {
          "output_type": "stream",
          "name": "stdout",
          "text": [
            "   Unnamed: 0                   city Founder and Architect  year\n",
            "0           0        Francois Martin           pondicherry  1673\n",
            "1           1           Job Charnock               Kolkata  1690\n",
            "2           2  Baker & Edwin lutyens                 Delhi  1927\n",
            "3           3    Jane & Le Corbusier            Chandigarh  1950\n",
            "\n",
            "Unnamed: 0                             0\n",
            "city                     Francois Martin\n",
            "Founder and Architect        pondicherry\n",
            "year                                1673\n",
            "Name: 0, dtype: object\n",
            "\n",
            "Francois Martin\n",
            "Francois Martin\n",
            "\n",
            "   Unnamed: 0                   city Founder and Architect  year\n",
            "2           2  Baker & Edwin lutyens                 Delhi  1927\n",
            "\n",
            "                    city Founder and Architect  year\n",
            "2  Baker & Edwin lutyens                 Delhi  1927\n"
          ]
        }
      ],
      "source": [
        "#loc is label based\n",
        "df = pd.read_csv('file1.csv')\n",
        "print(df)\n",
        "print()\n",
        "print(df.loc[0])\n",
        "print()\n",
        "print(df.loc[0, 'city'])\n",
        "#print(df.loc[0, 1]) ERROR\n",
        "print(df.iloc[0, 1]) #NO ERROR\n",
        "print()\n",
        "print(df.loc[(df.year == 1927)])\n",
        "print()\n",
        "print(df.loc[(df.year == 1927), 'city':'year'])\n",
        "\n"
      ]
    },
    {
      "cell_type": "code",
      "execution_count": null,
      "metadata": {
        "colab": {
          "base_uri": "https://localhost:8080/"
        },
        "id": "VGq1cdfIq-cJ",
        "outputId": "6a0a3a4d-62b9-4b08-c156-455b58023550"
      },
      "outputs": [
        {
          "name": "stdout",
          "output_type": "stream",
          "text": [
            "   Unnamed: 0                   city Founder and Architect  year Belong to\n",
            "0           0        Francois Martin           pondicherry  1673      FEIC\n",
            "1           1           Job Charnock               Kolkata  1690      BEIC\n",
            "2           2  Baker & Edwin lutyens                 Delhi  1927   England\n",
            "3           3    Jane & Le Corbusier            Chandigarh  1950   England\n",
            "\n",
            "0    0\n",
            "1    1\n",
            "2    2\n",
            "3    3\n",
            "Name: Unnamed: 0, dtype: int64\n"
          ]
        }
      ],
      "source": [
        "Belong_to = ['FEIC', 'BEIC', 'England', 'England']\n",
        "df[\"Belong to\"]  = Belong_to\n",
        "print(df)\n",
        "print()\n",
        "print(df.iloc[:, 0])\n",
        "df.to_csv('updated_file1.csv')\n"
      ]
    },
    {
      "cell_type": "code",
      "execution_count": null,
      "metadata": {
        "colab": {
          "base_uri": "https://localhost:8080/"
        },
        "id": "YaH4zFVksnCd",
        "outputId": "f7281e01-7908-440a-922b-f003ce4bca4d"
      },
      "outputs": [
        {
          "name": "stdout",
          "output_type": "stream",
          "text": [
            "                    city Founder and Architect  year\n",
            "0        Francois Martin           pondicherry  1673\n",
            "1           Job Charnock               Kolkata  1690\n",
            "2  Baker & Edwin lutyens                 Delhi  1927\n",
            "3    Jane & Le Corbusier            Chandigarh  1950\n",
            "\n",
            "\n",
            "0          Francois Martin\n",
            "1             Job Charnock\n",
            "2    Baker & Edwin lutyens\n",
            "3      Jane & Le Corbusier\n",
            "Name: city, dtype: object\n"
          ]
        }
      ],
      "source": [
        "import pandas as pd\n",
        "\n",
        "data = {\n",
        "  \"city\": ['Francois Martin', 'Job Charnock', 'Baker & Edwin lutyens', 'Jane & Le Corbusier'],\n",
        "  \"Founder and Architect\": ['pondicherry', 'Kolkata', 'Delhi', 'Chandigarh'],\n",
        "  \"year\": [1673, 1690, 1927, 1950]\n",
        "}\n",
        "\n",
        "df3 = pd.DataFrame(data)\n",
        "\n",
        "print(df3)\n",
        "print('\\n')\n",
        "df3.to_csv('file2.csv', index = False)\n",
        "print(df3.iloc[:,0])"
      ]
    },
    {
      "cell_type": "code",
      "execution_count": null,
      "metadata": {
        "id": "LlxldBSMtOIR"
      },
      "outputs": [],
      "source": [
        ""
      ]
    }
  ],
  "metadata": {
    "colab": {
      "name": "Unit 6 .ipynb",
      "provenance": []
    },
    "kernelspec": {
      "display_name": "Python 3",
      "name": "python3"
    },
    "language_info": {
      "name": "python"
    }
  },
  "nbformat": 4,
  "nbformat_minor": 0
}