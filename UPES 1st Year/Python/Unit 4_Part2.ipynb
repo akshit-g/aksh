{
  "nbformat": 4,
  "nbformat_minor": 0,
  "metadata": {
    "colab": {
      "name": "Unit4 Part2.ipynb",
      "provenance": []
    },
    "kernelspec": {
      "name": "python3",
      "display_name": "Python 3"
    },
    "language_info": {
      "name": "python"
    }
  },
  "cells": [
    {
      "cell_type": "code",
      "execution_count": null,
      "metadata": {
        "id": "M3vIv99hdqSK"
      },
      "outputs": [],
      "source": [
        "import re\n",
        "\n",
        "txt = \"The rain in Spain\"\n",
        "x = re.search(\"^T.*n$\", txt)\n",
        "if x:\n",
        "  print(\"OK\")\n",
        "else:\n",
        "  print(\"NO\")\n"
      ]
    },
    {
      "cell_type": "code",
      "source": [
        "import re\n",
        "a = \"hello hope you are doing good.\"\n",
        "x = re.search(\"hello\", a)\n",
        "print(x)"
      ],
      "metadata": {
        "colab": {
          "base_uri": "https://localhost:8080/"
        },
        "id": "NDVLmkDXgpPn",
        "outputId": "039ae9b3-992c-41ea-8c35-a229eb98c283"
      },
      "execution_count": null,
      "outputs": [
        {
          "output_type": "stream",
          "name": "stdout",
          "text": [
            "<re.Match object; span=(0, 5), match='hello'>\n"
          ]
        }
      ]
    },
    {
      "cell_type": "code",
      "source": [
        "import re\n",
        "a = \"hello hope you are doing good.\"\n",
        "x = re.search(\"HELLO\", a)\n",
        "print(x)"
      ],
      "metadata": {
        "colab": {
          "base_uri": "https://localhost:8080/"
        },
        "id": "zhbWIjgFsZul",
        "outputId": "a7af61cc-dc00-4184-9e0b-aff9c34e7c83"
      },
      "execution_count": null,
      "outputs": [
        {
          "output_type": "stream",
          "name": "stdout",
          "text": [
            "None\n"
          ]
        }
      ]
    },
    {
      "cell_type": "code",
      "source": [
        "import re\n",
        "a = \"hello hope you are doing good.\"\n",
        "x = re.search(\"HeLLo\", a, re.I)# re.IGNORECASE\n",
        "if x:\n",
        "  print(\"YES\")\n",
        "else:\n",
        "  print(\"NO\")"
      ],
      "metadata": {
        "colab": {
          "base_uri": "https://localhost:8080/"
        },
        "id": "7yj8Q6yhseDi",
        "outputId": "527a3f0f-5262-4451-d14d-db46c0adf3ba"
      },
      "execution_count": null,
      "outputs": [
        {
          "output_type": "stream",
          "name": "stdout",
          "text": [
            "YES\n"
          ]
        }
      ]
    },
    {
      "cell_type": "code",
      "source": [
        "import re\n",
        "\n",
        "# string with newline character\n",
        "target_str = \"hello\\nhow\\nare\\you\"\n",
        "\n",
        "# Match any character\n",
        "result = re.search(\"how\", target_str)\n",
        "print(\"Without using re.S flag:\", result)"
      ],
      "metadata": {
        "colab": {
          "base_uri": "https://localhost:8080/"
        },
        "id": "HB_4zR7Gu9k0",
        "outputId": "ca290077-a532-4735-e784-6a9ac097fcdc"
      },
      "execution_count": null,
      "outputs": [
        {
          "output_type": "stream",
          "name": "stdout",
          "text": [
            "Without using re.S flag: <re.Match object; span=(6, 9), match='how'>\n"
          ]
        }
      ]
    },
    {
      "cell_type": "code",
      "source": [
        "# using \"r\" to prevent work of escape sequences\n",
        "ch1 = r\"hello\\thow\\nare\\tyou\"\n",
        "ch2 = \"hello\\thow\\nare\\tyou\"\n",
        "print(ch1)\n",
        "print(ch2)"
      ],
      "metadata": {
        "colab": {
          "base_uri": "https://localhost:8080/"
        },
        "id": "d2I7pzAJxFdC",
        "outputId": "7e24dcd6-7625-4fdc-97b9-7e49c2870a7b"
      },
      "execution_count": null,
      "outputs": [
        {
          "output_type": "stream",
          "name": "stdout",
          "text": [
            "hello\\thow\\nare\\tyou\n",
            "hello\thow\n",
            "are\tyou\n"
          ]
        }
      ]
    },
    {
      "cell_type": "code",
      "source": [
        "import re\n",
        "a = \"hello hope you are doing good.\"\n",
        "x = re.search(\"hllo\", a)\n",
        "print(x)"
      ],
      "metadata": {
        "colab": {
          "base_uri": "https://localhost:8080/"
        },
        "id": "DQp3nfuLgzxi",
        "outputId": "12c376db-9177-45c1-eaee-da60df712aa1"
      },
      "execution_count": null,
      "outputs": [
        {
          "output_type": "stream",
          "name": "stdout",
          "text": [
            "None\n"
          ]
        }
      ]
    },
    {
      "cell_type": "code",
      "source": [
        ""
      ],
      "metadata": {
        "id": "9igYBsHzu8ut"
      },
      "execution_count": null,
      "outputs": []
    },
    {
      "cell_type": "code",
      "source": [
        "import re\n",
        "a = \"hello hope you are doing good.\"\n",
        "x = re.search(\"hello\", a)\n",
        "print(x.start(), x.end())"
      ],
      "metadata": {
        "colab": {
          "base_uri": "https://localhost:8080/"
        },
        "id": "Nd-pysNtgpF8",
        "outputId": "ee7b996c-2e3c-4232-e1ac-9786a4ab20bc"
      },
      "execution_count": null,
      "outputs": [
        {
          "output_type": "stream",
          "name": "stdout",
          "text": [
            "0 5\n"
          ]
        }
      ]
    },
    {
      "cell_type": "markdown",
      "source": [
        ""
      ],
      "metadata": {
        "id": "1MzcszV_tsLV"
      }
    },
    {
      "cell_type": "code",
      "source": [
        "import re\n",
        "a = \"hello hope you are doing good.\"\n",
        "x = re.split(\" \", a)\n",
        "print(x)"
      ],
      "metadata": {
        "colab": {
          "base_uri": "https://localhost:8080/"
        },
        "id": "V-XNO0_uhtCD",
        "outputId": "fda6a47b-242e-45f4-f2bf-dd1514a5b4e2"
      },
      "execution_count": null,
      "outputs": [
        {
          "output_type": "stream",
          "name": "stdout",
          "text": [
            "['hello', 'hope', 'you', 'are', 'doing', 'good.']\n"
          ]
        }
      ]
    },
    {
      "cell_type": "code",
      "source": [
        "import re\n",
        "a = \"hello hope you are doing good.\"\n",
        "x = re.split(\"\\s\", a)\n",
        "print(x)"
      ],
      "metadata": {
        "colab": {
          "base_uri": "https://localhost:8080/"
        },
        "id": "OpoW7NhGkryo",
        "outputId": "96fe048a-716e-43d1-a057-9569ff652277"
      },
      "execution_count": null,
      "outputs": [
        {
          "output_type": "stream",
          "name": "stdout",
          "text": [
            "['hello', 'hope', 'you', 'are', 'doing', 'good.']\n"
          ]
        }
      ]
    },
    {
      "cell_type": "code",
      "source": [
        "import re\n",
        "a = \"hello hope you are doing good.\"\n",
        "x = re.split(\"h\", a)\n",
        "print(x)"
      ],
      "metadata": {
        "colab": {
          "base_uri": "https://localhost:8080/"
        },
        "id": "vV361nl5kzyH",
        "outputId": "79b0e3a9-c85c-4408-ebc7-0e52d9a68f12"
      },
      "execution_count": null,
      "outputs": [
        {
          "output_type": "stream",
          "name": "stdout",
          "text": [
            "['', 'ello ', 'ope you are doing good.']\n"
          ]
        }
      ]
    },
    {
      "cell_type": "code",
      "source": [
        "import re\n",
        "file = open(\"abc.txt\", \"w\")\n",
        "l1 = \"hello@gmail.com\\n\"\n",
        "l2 = \"abc@gmail.com\"\n",
        "file.writelines([l1, l2])\n",
        "file.close()"
      ],
      "metadata": {
        "id": "-a1VshfzjG1m"
      },
      "execution_count": null,
      "outputs": []
    },
    {
      "cell_type": "code",
      "source": [
        "file = open(\"abc.txt\", \"r\")\n",
        "print(file.read().splitlines())\n",
        "file.close()"
      ],
      "metadata": {
        "colab": {
          "base_uri": "https://localhost:8080/"
        },
        "id": "fbPRP8yZmK8q",
        "outputId": "784c7d33-9a50-4523-c6a6-49df4c9a140e"
      },
      "execution_count": null,
      "outputs": [
        {
          "output_type": "stream",
          "name": "stdout",
          "text": [
            "['hello@gmail.com', 'abc@gmail.com']\n"
          ]
        }
      ]
    },
    {
      "cell_type": "code",
      "source": [
        "import re\n",
        "file = open(\"abc.txt\", \"w\")\n",
        "l1 = \"hello@gmail.com\\n\"\n",
        "l2 = \"abc@gmail.com\"\n",
        "file.writelines([l1, l2])\n",
        "file.close()\n",
        "file = open(\"abc.txt\", \"r\")\n",
        "a = file.read().splitlines()\n",
        "x = []\n",
        "for i in range(len(a)):\n",
        "  x.append(re.split(\"@\", a[i]))\n",
        "print(x)\n",
        "file.close()"
      ],
      "metadata": {
        "colab": {
          "base_uri": "https://localhost:8080/"
        },
        "id": "1UIv6mNtmgn6",
        "outputId": "29447640-75c1-4908-f276-fa2be423a847"
      },
      "execution_count": null,
      "outputs": [
        {
          "output_type": "stream",
          "name": "stdout",
          "text": [
            "[['hello', 'gmail.com'], ['abc', 'gmail.com']]\n"
          ]
        }
      ]
    },
    {
      "cell_type": "code",
      "source": [
        "import re\n",
        "a = \"hello hope you are doing good.\"\n",
        "x = re.search(input(), a)\n",
        "if x:\n",
        "  print(\"OK\")\n",
        "else:\n",
        "  print(\"NO\")"
      ],
      "metadata": {
        "colab": {
          "base_uri": "https://localhost:8080/"
        },
        "id": "1zVAMwWafzcy",
        "outputId": "12fdc863-8559-4f15-f3b7-b91f333dcf80"
      },
      "execution_count": null,
      "outputs": [
        {
          "output_type": "stream",
          "name": "stdout",
          "text": [
            "hello\n",
            "OK\n"
          ]
        }
      ]
    },
    {
      "cell_type": "markdown",
      "source": [
        "###sub()"
      ],
      "metadata": {
        "id": "ueY6duzHqk4c"
      }
    },
    {
      "cell_type": "code",
      "source": [
        "import re\n",
        "\n",
        "a = \"hello gmail.com\"\n",
        "x = re.sub(\" \", \"@\", a)#x = re.sub(\"\\s\", \"@\", a)\n",
        "print(x)"
      ],
      "metadata": {
        "colab": {
          "base_uri": "https://localhost:8080/"
        },
        "id": "FtZuwWxxqkgi",
        "outputId": "49582787-a37b-4a51-8164-367a27e53d64"
      },
      "execution_count": null,
      "outputs": [
        {
          "output_type": "stream",
          "name": "stdout",
          "text": [
            "hello@gmail.com\n"
          ]
        }
      ]
    },
    {
      "cell_type": "code",
      "source": [
        "import re\n",
        "\n",
        "a = \"hello gmail.com this is my mail id\"\n",
        "x = re.sub(\" \", \"@\", a)#x = re.sub(\"\\s\", \"@\", a)\n",
        "print(x)"
      ],
      "metadata": {
        "colab": {
          "base_uri": "https://localhost:8080/"
        },
        "id": "3LPc1i7xrJCR",
        "outputId": "d1417696-f625-4b77-ca31-c0b69ce0365f"
      },
      "execution_count": null,
      "outputs": [
        {
          "output_type": "stream",
          "name": "stdout",
          "text": [
            "hello@gmail.com@this@is@my@mail@id\n"
          ]
        }
      ]
    },
    {
      "cell_type": "code",
      "source": [
        "import re\n",
        "\n",
        "a = \"hello gmail.com this is my mail id\"\n",
        "x = re.sub(\" \", \"@\", a, 1)#x = re.sub(\"\\s\", \"@\", a)\n",
        "print(x)"
      ],
      "metadata": {
        "colab": {
          "base_uri": "https://localhost:8080/"
        },
        "id": "LbB2txIhrWlG",
        "outputId": "fdcccd1a-ca73-4a0a-ac01-1d8298de5450"
      },
      "execution_count": null,
      "outputs": [
        {
          "output_type": "stream",
          "name": "stdout",
          "text": [
            "hello@gmail.com this is my mail id\n"
          ]
        }
      ]
    },
    {
      "cell_type": "markdown",
      "source": [
        "###findall()"
      ],
      "metadata": {
        "id": "a0kaeJFJyCeT"
      }
    },
    {
      "cell_type": "code",
      "source": [
        "import re\n",
        "\n",
        "a = \"hello gmail.com this is my mail id\"\n",
        "x = re.findall(\"i\", a)\n",
        "print(x)"
      ],
      "metadata": {
        "colab": {
          "base_uri": "https://localhost:8080/"
        },
        "id": "NQVLT8EYyCTK",
        "outputId": "5895abef-5dac-44cf-8212-96c51edcdcc8"
      },
      "execution_count": null,
      "outputs": [
        {
          "output_type": "stream",
          "name": "stdout",
          "text": [
            "['i', 'i', 'i', 'i', 'i']\n"
          ]
        }
      ]
    },
    {
      "cell_type": "code",
      "source": [
        "import re\n",
        "txt = \"hello how are you\"\n",
        "\n",
        "x = re.findall(\"[hoy]\", txt)\n",
        "#Check if the string has any h, o, and y characters:\n",
        "print(x)"
      ],
      "metadata": {
        "colab": {
          "base_uri": "https://localhost:8080/"
        },
        "id": "FQbwGq7YyaxF",
        "outputId": "516b94c9-bbe1-4766-a607-d8215bb48e7b"
      },
      "execution_count": null,
      "outputs": [
        {
          "output_type": "stream",
          "name": "stdout",
          "text": [
            "['h', 'o', 'h', 'o', 'y', 'o']\n"
          ]
        }
      ]
    },
    {
      "cell_type": "code",
      "source": [
        "import re\n",
        "txt = \"hello how are you doing aman\"\n",
        "x = len(re.findall(\"[a]\", txt))\n",
        "print(x)"
      ],
      "metadata": {
        "colab": {
          "base_uri": "https://localhost:8080/"
        },
        "id": "ewmjv9j-zN-T",
        "outputId": "c74e9cb0-8ee4-4705-d590-8fcdccc76671"
      },
      "execution_count": null,
      "outputs": [
        {
          "output_type": "stream",
          "name": "stdout",
          "text": [
            "3\n"
          ]
        }
      ]
    },
    {
      "cell_type": "code",
      "source": [
        "import re\n",
        "txt = \"hello how are you\"\n",
        "\n",
        "x = re.findall(\"[h-u]\", txt)\n",
        "#return lowercase letters between h to u\n",
        "print(x)"
      ],
      "metadata": {
        "colab": {
          "base_uri": "https://localhost:8080/"
        },
        "id": "6jYI_UT3zhEP",
        "outputId": "8d91cc96-c1bc-42a0-db13-5e0fef5029d8"
      },
      "execution_count": null,
      "outputs": [
        {
          "output_type": "stream",
          "name": "stdout",
          "text": [
            "['h', 'l', 'l', 'o', 'h', 'o', 'r', 'o', 'u']\n"
          ]
        }
      ]
    },
    {
      "cell_type": "code",
      "source": [
        "import re\n",
        "txt = \"hellO How are you\"\n",
        "\n",
        "x = re.findall(\"[h]\", txt, re.I)\n",
        "print(x)"
      ],
      "metadata": {
        "colab": {
          "base_uri": "https://localhost:8080/"
        },
        "id": "glz8f-Mez0FA",
        "outputId": "c4c00244-f900-4896-9487-2e16f88ff487"
      },
      "execution_count": null,
      "outputs": [
        {
          "output_type": "stream",
          "name": "stdout",
          "text": [
            "['h', 'H']\n"
          ]
        }
      ]
    },
    {
      "cell_type": "code",
      "source": [
        "import re\n",
        "txt = \"My Name is aman and my sap id is 50001287\"\n",
        "\n",
        "x = re.findall(\"[0-9]\", txt)\n",
        "print(x)"
      ],
      "metadata": {
        "colab": {
          "base_uri": "https://localhost:8080/"
        },
        "id": "NlUdtebr0YwE",
        "outputId": "0299bbe0-a6d9-4d69-afca-07e55cb58e76"
      },
      "execution_count": null,
      "outputs": [
        {
          "output_type": "stream",
          "name": "stdout",
          "text": [
            "['5', '0', '0', '0', '1', '2', '8', '7']\n"
          ]
        }
      ]
    },
    {
      "cell_type": "code",
      "source": [
        "import re\n",
        "txt = \"i got 45 outof 50\"\n",
        "\n",
        "x = re.findall(\"[0-9]\", txt)\n",
        "print(x)"
      ],
      "metadata": {
        "colab": {
          "base_uri": "https://localhost:8080/"
        },
        "id": "CyumHo0k0rw6",
        "outputId": "dc653774-77ee-404e-863d-b9ec6f2e6d3e"
      },
      "execution_count": null,
      "outputs": [
        {
          "output_type": "stream",
          "name": "stdout",
          "text": [
            "['4', '5', '5', '0']\n"
          ]
        }
      ]
    },
    {
      "cell_type": "code",
      "source": [
        "import re\n",
        "txt = \"i got 45 outof 50\"\n",
        "\n",
        "x = re.findall(\"[0-9][0-9]\", txt)\n",
        "print(x)"
      ],
      "metadata": {
        "id": "TYgxf4E50wH-",
        "outputId": "7398dc4d-d5a8-4362-9994-6b547a73d4d9",
        "colab": {
          "base_uri": "https://localhost:8080/"
        }
      },
      "execution_count": null,
      "outputs": [
        {
          "output_type": "stream",
          "name": "stdout",
          "text": [
            "['45', '50']\n"
          ]
        }
      ]
    }
  ]
}