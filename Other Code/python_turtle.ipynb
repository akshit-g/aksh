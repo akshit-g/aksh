{
 "cells": [
  {
   "cell_type": "code",
   "execution_count": null,
   "metadata": {},
   "outputs": [],
   "source": [
    "# pre-defined turtle library in python\n",
    "# import turtle module\n",
    "import turtle\n",
    "\n",
    "# s can be any random variable to initialize the canvas\n",
    "s = turtle.Turtle()\n",
    "\n",
    "# move forward 100 units\n",
    "s.forward(100)\n",
    "\n",
    "# turn right at an angle of 90 degrees\n",
    "s.right(90)\n",
    "\n",
    "# repeatinf the steps to complete the square\n",
    "s.forward(100)\n",
    "s.right(90)\n",
    "s.forward(100)\n",
    "s.right(90)\n",
    "s.forward(100)\n",
    "s.right(90)\n",
    "\n",
    "\n",
    "turtle.mainloop()"
   ]
  },
  {
   "cell_type": "code",
   "execution_count": null,
   "metadata": {},
   "outputs": [],
   "source": [
    "import turtle\n",
    "\n",
    "# s can be any random variable to initialize the canvas\n",
    "s = turtle.Turtle()\n",
    "\n",
    "# set turtle location\n",
    "s.goto(100, 100)\n",
    "\n",
    "s.forward(100)\n",
    "s.right(90)\n",
    "\n",
    "# repeatinf the steps to complete the square\n",
    "s.forward(100)\n",
    "s.right(90)\n",
    "s.forward(100)\n",
    "s.right(90)\n",
    "s.forward(100)\n",
    "s.right(90)\n",
    "\n",
    "turtle.mainloop()"
   ]
  }
 ],
 "metadata": {
  "language_info": {
   "name": "python"
  },
  "orig_nbformat": 4
 },
 "nbformat": 4,
 "nbformat_minor": 2
}
