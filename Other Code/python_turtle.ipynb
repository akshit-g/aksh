{
 "cells": [
  {
   "cell_type": "code",
   "execution_count": null,
   "metadata": {},
   "outputs": [],
   "source": [
    "# pre-defined turtle library in python\n",
    "# import turtle module\n",
    "import turtle\n",
    "\n",
    "# s can be any random variable to initialize the canvas\n",
    "s = turtle.Turtle()\n",
    "\n",
    "# move forward 100 units\n",
    "s.forward(100)\n",
    "\n",
    "# turn right at an angle of 90 degrees\n",
    "s.right(90)\n",
    "\n",
    "# repeatinf the steps to complete the square\n",
    "s.forward(100)\n",
    "s.right(90)\n",
    "s.forward(100)\n",
    "s.right(90)\n",
    "s.forward(100)\n",
    "s.right(90)\n",
    "\n",
    "\n",
    "turtle.mainloop()"
   ]
  },
  {
   "cell_type": "code",
   "execution_count": null,
   "metadata": {},
   "outputs": [],
   "source": [
    "import turtle\n",
    "\n",
    "# s can be any random variable to initialize the canvas\n",
    "s = turtle.Turtle()\n",
    "\n",
    "# set turtle location\n",
    "s.goto(100, 100)\n",
    "\n",
    "s.forward(100)\n",
    "s.right(90)\n",
    "\n",
    "# repeatinf the steps to complete the square\n",
    "s.forward(100)\n",
    "s.right(90)\n",
    "s.forward(100)\n",
    "s.right(90)\n",
    "s.forward(100)\n",
    "s.right(90)\n",
    "\n",
    "turtle.mainloop()"
   ]
  },
  {
   "cell_type": "code",
   "execution_count": null,
   "metadata": {},
   "outputs": [],
   "source": [
    "import turtle\n",
    "\n",
    "s = turtle.Turtle()\n",
    "\n",
    "s.shape(\"turtle\")\n",
    "\n",
    "# drawing a circle\n",
    "s.circle(50, 270, 10)\n",
    "\n",
    "turtle.mainloop()"
   ]
  },
  {
   "cell_type": "code",
   "execution_count": null,
   "metadata": {},
   "outputs": [],
   "source": [
    "import turtle\n",
    "\n",
    "s = turtle.Turtle()\n",
    "\n",
    "# change the turtle pensize width\n",
    "s.pensize(4)\n",
    "\n",
    "# applying a loop to complete the square\n",
    "for i in range (4):\n",
    "    s.forward(100)\n",
    "    s.right(90)\n",
    "    \n",
    "turtle.mainloop()"
   ]
  },
  {
   "cell_type": "code",
   "execution_count": null,
   "metadata": {},
   "outputs": [],
   "source": [
    "import turtle\n",
    "\n",
    "s = turtle.Turtle()\n",
    "\n",
    "# change the title of the window\n",
    "turtle.title(\"Akshit's Turtle\")\n",
    "\n",
    "# change the background colour\n",
    "turtle.bgcolor(\"#ffd6fa\")\n",
    "\n",
    "# create a dot object of specified radius\n",
    "s.dot(50)\n",
    "\n",
    "turtle.mainloop()"
   ]
  }
 ],
 "metadata": {
  "interpreter": {
   "hash": "a8d0b99760ce0cd8abb92070f34fc7e94ce9b802ba9e7fb363af83bb4d5ed8cf"
  },
  "kernelspec": {
   "display_name": "Python 3.10.1 64-bit",
   "language": "python",
   "name": "python3"
  },
  "language_info": {
   "codemirror_mode": {
    "name": "ipython",
    "version": 3
   },
   "file_extension": ".py",
   "mimetype": "text/x-python",
   "name": "python",
   "nbconvert_exporter": "python",
   "pygments_lexer": "ipython3",
   "version": "3.10.1"
  },
  "orig_nbformat": 4
 },
 "nbformat": 4,
 "nbformat_minor": 2
}
