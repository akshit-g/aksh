{
 "cells": [
  {
   "cell_type": "code",
   "execution_count": null,
   "metadata": {},
   "outputs": [],
   "source": [
    "# Dynamically sized array to store data\n",
    "# Indexed from 0\n",
    "# Mutable and can have multiple copies of elements\n",
    "\n",
    "a = [1, 2, 3, 4, 5, \"Hello\"] # Data may not be similar\n",
    "print (a)\n",
    "print (\"1st element is at index 0 and is\", a[0]) # indexing\n",
    "type (a)"
   ]
  },
  {
   "cell_type": "code",
   "execution_count": null,
   "metadata": {},
   "outputs": [],
   "source": [
    "# indexing\n",
    "\n",
    "a = [1, 2, \"Akshit\", 66.66, 1, \"Hi\"]\n",
    "print (\"0th index = 1st element is\", a[0]) # forward index starts at 0\n",
    "print (\"4th index = 5th element is\", a[4])\n",
    "print (\"-1st index = last element is\", a[-1]) # reverse index starts at -1\n",
    "print (\"-5th index = 2nd element is\", a[-5])"
   ]
  },
  {
   "cell_type": "code",
   "execution_count": null,
   "metadata": {},
   "outputs": [],
   "source": [
    "# adding to list\n",
    "\n",
    "a = [1, 2, 3, 4, 5]\n",
    "print (\"The list is :\", a)\n",
    "\n",
    "a.append(\"Hello\") # adds element to the end of the list\n",
    "print (\"The new list after append is :\", a)\n",
    "\n",
    "a.insert(2, \"Akshit\") # adds element to the specified position\n",
    "print (\"The new list after insert is :\", a)\n",
    "\n",
    "a.extend([6, 7, 8, 9]) #itterable append\n",
    "print (\"The new list after extend is :\", a)"
   ]
  },
  {
   "cell_type": "code",
   "execution_count": null,
   "metadata": {},
   "outputs": [],
   "source": [
    "# removing from the list\n"
   ]
  }
 ],
 "metadata": {
  "interpreter": {
   "hash": "64c38de73638cd68f06ade4f2daf9db87bd00ec7e1b0ba5dd5d9d6d9e2cca6dc"
  },
  "kernelspec": {
   "display_name": "Python 3.10.1 64-bit",
   "language": "python",
   "name": "python3"
  },
  "language_info": {
   "codemirror_mode": {
    "name": "ipython",
    "version": 3
   },
   "file_extension": ".py",
   "mimetype": "text/x-python",
   "name": "python",
   "nbconvert_exporter": "python",
   "pygments_lexer": "ipython3",
   "version": "3.10.1"
  },
  "orig_nbformat": 4
 },
 "nbformat": 4,
 "nbformat_minor": 2
}
