{
  "nbformat": 4,
  "nbformat_minor": 0,
  "metadata": {
    "colab": {
      "name": "Unit - 1 B 3 B 4.ipynb",
      "provenance": [],
      "collapsed_sections": []
    },
    "kernelspec": {
      "name": "python3",
      "display_name": "Python 3"
    },
    "language_info": {
      "name": "python"
    }
  },
  "cells": [
    {
      "cell_type": "code",
      "execution_count": null,
      "metadata": {
        "id": "hiBZldZ21h5e"
      },
      "outputs": [],
      "source": [
        "a = \"hello\"\n",
        "b = 10\n",
        "c = 89.80\n",
        "print(type(a), type(b), type(c))\n",
        "print(a,b,c)"
      ]
    },
    {
      "cell_type": "code",
      "source": [
        "a = 15\n",
        "b = a-10\n",
        "print(a+3)\n",
        "if b>5:\n",
        "  print(\"Value of 'a' was more than 15 initially,\")\n",
        "else:\n",
        "  print(\"Value of 'a' was 15 or less than initially,\")"
      ],
      "metadata": {
        "id": "DpbKTmCvdAxI"
      },
      "execution_count": null,
      "outputs": []
    },
    {
      "cell_type": "code",
      "source": [
        "#this is single line comment \n",
        "\n",
        "'''\n",
        "this is \n",
        "multiple line comments\n",
        "'''\n",
        "print(\"hello\")"
      ],
      "metadata": {
        "id": "CVbsbhb_2vDh"
      },
      "execution_count": null,
      "outputs": []
    },
    {
      "cell_type": "code",
      "source": [
        "#formatting string using format() method\n",
        "txt = \"1 dollar is about {} indian rupee\"\n",
        "print(txt.format(73.79)) #example 1\n",
        "print(\"hello how are you {}\".format(\"Mr.X\")) #example 2\n",
        "print(\"{} dollar is equal to {} indian rupee\".format(1, 73.79)) #example 3\n",
        "txt1 = \"My name is {0}, I'm {1}\".format(\"John\",36) #order of 0  and 1\n",
        "print(txt1)#example 4\n",
        "txt2 = \"My name is {name}, I'm {age}\".format(name = \"Ram\", age = 15)\n",
        "print(txt2)#example 5\n"
      ],
      "metadata": {
        "id": "M4rfg2Al5UDK"
      },
      "execution_count": null,
      "outputs": []
    },
    {
      "cell_type": "code",
      "source": [
        "txt2 = \"My name is {name}, I'm {age}\".format(name = \"Ram\", age = 15)\n",
        "print(txt2)#example 5"
      ],
      "metadata": {
        "id": "9xg3I4W8mNcZ"
      },
      "execution_count": null,
      "outputs": []
    },
    {
      "cell_type": "code",
      "source": [
        "#formatting string using % operator\n",
        "a = 200\n",
        "a1 = '300'\n",
        "s = \"hello\"\n",
        "f = 34.67\n",
        "print(\"Integer %d\" %(a))\n",
        "print(\"string %s and %s\" %(s, \"abc\"))\n",
        "print(\"float %f\" %(f))\n",
        "print(\"float %0.0f\" %(f))\n",
        "print(\"octal %o\" %(a))\n",
        "print(\"hexa decimal %x\" %(a))"
      ],
      "metadata": {
        "id": "0GohmCwb9JhN"
      },
      "execution_count": null,
      "outputs": []
    },
    {
      "cell_type": "code",
      "source": [
        "#formatting string using % operator\n",
        "a = 200\n",
        "a1 = '300'\n",
        "s = \"hello\"\n",
        "f = 34.67\n",
        "print(\"Integer %d\" %(a))\n",
        "print(\"string %s and %s\" %(s, \"abc\"))\n",
        "print(\"float %f\" %(f))\n",
        "print(\"float %0.0f\" %(f))\n",
        "print(\"octal %o\" %(a))\n",
        "print(\"hexa decimal %x\" %(a))"
      ],
      "metadata": {
        "id": "PnncgSq0osvC"
      },
      "execution_count": null,
      "outputs": []
    },
    {
      "cell_type": "code",
      "source": [
        "#formatting string using f-string\n",
        "a = 200\n",
        "s = \"Ramesh\"\n",
        "print(f\"hello i have {a} rupees\")\n",
        "print(f\"2*3 is {2*3}\")\n",
        "print(f\"hello my name is {s}\")\n"
      ],
      "metadata": {
        "id": "RsSNVVtB8iVf"
      },
      "execution_count": null,
      "outputs": []
    },
    {
      "cell_type": "code",
      "source": [
        "a = input()\n",
        "print(a)\n",
        "print(type(a))\n",
        "b = int(input(\"enter a number\"))\n",
        "print(b)\n",
        "print(type(b))"
      ],
      "metadata": {
        "id": "e1tbVIOpFGdG"
      },
      "execution_count": null,
      "outputs": []
    },
    {
      "cell_type": "code",
      "source": [
        "print(\"a\", \"b\", \"c\") \n",
        "print(\"this will be printed in new line\")\n",
        "print(\"lets\", \"change\", \"the\", \"seperator\", \"and\", \"end\", sep = '@', end = \"&\")\n",
        "print(\"this will be printed with previous line\")"
      ],
      "metadata": {
        "id": "z0me_B3BJw59"
      },
      "execution_count": null,
      "outputs": []
    },
    {
      "cell_type": "code",
      "source": [
        "print(values, sep = \" \", end = \"\\n\")\n"
      ],
      "metadata": {
        "id": "gUHcgm3AIEJ8"
      },
      "execution_count": null,
      "outputs": []
    },
    {
      "cell_type": "code",
      "source": [
        "#STRING OPERATORS\n",
        "str1 = \"hello\"\n",
        "str2 = \"Nature\"\n",
        "print(str1+str2)# +\n",
        "print(str1*3)# *\n",
        "print(str1[0])# [] (slice)\n",
        "print(str1[0:2])#2nd position element will not be included #[:] (range slice)\n",
        "print(\"he\" in str1) # in\n",
        "print(\"he\" not in str1) # not in\n",
        "print(str1 + \"\\t\" + str2)\n",
        "print(str1 + r\"\\t\" + str2) #r supress the escape characters\n",
        "print(\"hello %s\" %(\"hi\"))\n"
      ],
      "metadata": {
        "id": "7Or10rltcdLQ"
      },
      "execution_count": null,
      "outputs": []
    },
    {
      "cell_type": "code",
      "source": [
        "for i in range(1, 5):\n",
        "  for j in range(5, i, -1):\n",
        "    print(\" \", end = '')\n",
        "  for k in range(1, j):\n",
        "    print(\"*\", end = '')\n",
        "  print()"
      ],
      "metadata": {
        "id": "Ik66eMidmOr-"
      },
      "execution_count": null,
      "outputs": []
    },
    {
      "cell_type": "code",
      "source": [
        "a = 0123\n",
        "print(a)"
      ],
      "metadata": {
        "id": "ex8ezu5rn7iz"
      },
      "execution_count": null,
      "outputs": []
    },
    {
      "cell_type": "code",
      "source": [
        "f = 12e400\n",
        "print(f)"
      ],
      "metadata": {
        "id": "FO7m1PU12V_T"
      },
      "execution_count": null,
      "outputs": []
    },
    {
      "cell_type": "code",
      "source": [
        "a = 2+3j\n",
        "print(a, type(a))"
      ],
      "metadata": {
        "id": "paCAYXzD3GGK"
      },
      "execution_count": null,
      "outputs": []
    },
    {
      "cell_type": "code",
      "source": [
        "#implicit conversion\n",
        "x = 3\n",
        "y = 3.4\n",
        "print(type(x), type(y))\n",
        "x = x + y #implicit conversion (lower to higher)\n",
        "print(type(x), type(y))"
      ],
      "metadata": {
        "id": "RXPhkkat4xr4"
      },
      "execution_count": null,
      "outputs": []
    },
    {
      "cell_type": "code",
      "source": [
        "#explicit conversion \n",
        "a = \"123\"\n",
        "b = 234\n",
        "c = 67\n",
        "i = int(a);\n",
        "print(i, type(i))# 123 <int>\n",
        "f = float(a);\n",
        "print(f, type(f))# 123.0 <float>\n",
        "s = str(b)\n",
        "print(s, type(s))\n",
        "i = int(a);\n",
        "com = complex(b, c)\n",
        "print(com, type(com))"
      ],
      "metadata": {
        "id": "rU-eBQju6R-E"
      },
      "execution_count": null,
      "outputs": []
    },
    {
      "cell_type": "code",
      "source": [
        "#IF STATEMENT\n",
        "a = 100\n",
        "b = 200\n",
        "if a>b: #programmer should mind the indentation\n",
        "  print(\"hello\")\n",
        "else:\n",
        "  print(\"hi\")\n",
        "\n",
        "print(\"hello\") if a>b else print(\"hi\")#one line\n",
        "#elif\n",
        "c = int(input(\"number between 1 to 3 = \"))\n",
        "if c == 1:\n",
        "  print(\"one\")\n",
        "elif c == 2:\n",
        "  print(\"two\")\n",
        "elif c == 3:\n",
        "  print(\"three\")\n",
        "else:\n",
        "  print(\"wrong input\")"
      ],
      "metadata": {
        "id": "jCRKKO6r8edf"
      },
      "execution_count": null,
      "outputs": []
    },
    {
      "cell_type": "code",
      "source": [
        "#LOGICAL OPERATORS - and or not\n",
        "a = 100\n",
        "b = 300\n",
        "c = 200\n",
        "if a < 200 and b < 200:\n",
        "  print(\"hello\")\n",
        "if a < 200 or b < 200:\n",
        "  print(\"hi\")\n",
        "if not a > 200 and b > 200:\n",
        "  print(\"hello\")"
      ],
      "metadata": {
        "id": "pbOTrlV9_pkR"
      },
      "execution_count": null,
      "outputs": []
    },
    {
      "cell_type": "code",
      "source": [
        "a = 100\n",
        "b = 300\n",
        "\n",
        "\n",
        "if not a > 200 and not b > 200:   \n",
        "  print(\"hello\")\n",
        "\n"
      ],
      "metadata": {
        "id": "7FY6FWZs06lM"
      },
      "execution_count": null,
      "outputs": []
    },
    {
      "cell_type": "code",
      "source": [
        "i = 0\n",
        "count = 0;\n",
        "while (i < 5):\n",
        "  a = int(input())\n",
        "  if a < 3:\n",
        "    count = count + 1;\n",
        "    print(f\"wrong input {count} times\")\n",
        "  else:\n",
        "    print(\"OK\")\n",
        "  if count == 3:\n",
        "    print(\"limit exceeded\")\n",
        "    break\n",
        "  i = i+1"
      ],
      "metadata": {
        "id": "VV-ZPBCbDXbQ"
      },
      "execution_count": null,
      "outputs": []
    },
    {
      "cell_type": "code",
      "source": [
        "while(1):\n",
        "  print(\"input 1 to break the trap\")\n",
        "  a = int(input())\n",
        "  if a == 1:\n",
        "    print(\"you have broken the trap :)\")\n",
        "    break\n",
        "  else:\n",
        "   continue\n"
      ],
      "metadata": {
        "id": "H5NeZnzYSQz_"
      },
      "execution_count": null,
      "outputs": []
    },
    {
      "cell_type": "code",
      "source": [
        "#for loop\n",
        "for i in range(1, 5): #5 in not included\n",
        "  print(\"hello\", end = \" \")\n",
        "for i in range(5, 1, -1):\n",
        "  print(\"hi\", end = \" \")\n",
        "for i in range(1, 5, 2):\n",
        "  print(\"indian\", end = \" \")\n",
        "for i in range(5, 1, -2):\n",
        "  print(\"citizens\", end = \" \")"
      ],
      "metadata": {
        "id": "JLlG2iKzTxc7"
      },
      "execution_count": null,
      "outputs": []
    },
    {
      "cell_type": "code",
      "source": [
        "i = 0\n",
        "count = 0;\n",
        "while (i < 5):\n",
        "  a = int(input())\n",
        "  if a < 3:\n",
        "    count = count + 1;\n",
        "    print(f\"wrong input {count} times\")\n",
        "  else:\n",
        "    print(\"OK\")\n",
        "  if count == 3:\n",
        "    print(\"limit exceeded\")\n",
        "    break\n",
        "  i = i+1\n",
        "p = (5-count)/5*100\n",
        "print(f\"Prediction accuracy is {p}\")\n",
        "if p>=50:\n",
        "  print(\"you win\")\n",
        "else:\n",
        "  print(\"you loose\")"
      ],
      "metadata": {
        "id": "gcYy1g1OqjPj"
      },
      "execution_count": null,
      "outputs": []
    },
    {
      "cell_type": "code",
      "source": [
        "a = 100\n",
        "if a<20:\n",
        "  else if a>50:\n",
        "    "
      ],
      "metadata": {
        "id": "2l2EEW9VTlcA"
      },
      "execution_count": null,
      "outputs": []
    },
    {
      "cell_type": "markdown",
      "source": [
        "UNIT-4__init__:"
      ],
      "metadata": {
        "id": "gMJwQy8AGpVG"
      }
    },
    {
      "cell_type": "code",
      "source": [
        "class class_a:\n",
        "  def __init__(self):\n",
        "    self.a = 200\n",
        "    self.b = 100\n",
        "ob1 = class_a()\n",
        "print(ob1.a + ob1.b)"
      ],
      "metadata": {
        "colab": {
          "base_uri": "https://localhost:8080/"
        },
        "id": "JrJ0_kNjFt7X",
        "outputId": "f7252f83-d898-4382-a0ec-811d9993fb05"
      },
      "execution_count": null,
      "outputs": [
        {
          "output_type": "stream",
          "name": "stdout",
          "text": [
            "300\n"
          ]
        }
      ]
    },
    {
      "cell_type": "code",
      "source": [
        "class sum:\n",
        "  def __init__(self, a, b):\n",
        "    self.x = a\n",
        "    self.y = b\n",
        "    print(self.x + self.y)\n",
        "\n",
        "p1 = sum(10,20)\n",
        "print(p1.x, p1.y)"
      ],
      "metadata": {
        "colab": {
          "base_uri": "https://localhost:8080/"
        },
        "id": "7ku4AV2vGoq6",
        "outputId": "ebbb4d22-e626-45a2-a81f-49f00696f05f"
      },
      "execution_count": null,
      "outputs": [
        {
          "output_type": "stream",
          "name": "stdout",
          "text": [
            "30\n",
            "10 20\n"
          ]
        }
      ]
    },
    {
      "cell_type": "code",
      "source": [
        "#Q1) solution\n",
        "import random as r\n",
        "class tup_list:\n",
        "  def fun(self, x, y):\n",
        "    z = list (zip(x, y))\n",
        "    return z\n",
        "l1 = []\n",
        "l2 = []\n",
        "for i in range(1,5):\n",
        "  li.append(r.randrange(10,20))\n",
        "for i in range (1,5):\n",
        "  l2.append(r.randrange (10, 20))\n",
        "ob1 = tup_list()\n",
        "print(on1.fun(11, 12))"
      ],
      "metadata": {
        "id": "jAzjNPIELi52"
      },
      "execution_count": null,
      "outputs": []
    },
    {
      "cell_type": "markdown",
      "source": [
        "EXPERIMENT 4"
      ],
      "metadata": {
        "id": "tz9K9tm1JtAk"
      }
    },
    {
      "cell_type": "code",
      "source": [
        "try:\n",
        "  pirnt(\"HELLO\")\n",
        "except NameError as e:\n",
        "  print(e)"
      ],
      "metadata": {
        "colab": {
          "base_uri": "https://localhost:8080/"
        },
        "id": "STMDubI9JxaK",
        "outputId": "e8ebff4e-fb40-4f4c-996e-d79f6a1e73f9"
      },
      "execution_count": null,
      "outputs": [
        {
          "output_type": "stream",
          "name": "stdout",
          "text": [
            "name 'pirnt' is not defined\n"
          ]
        }
      ]
    },
    {
      "cell_type": "markdown",
      "source": [
        "#TypeError"
      ],
      "metadata": {
        "id": "hGyoi-duU_bc"
      }
    },
    {
      "cell_type": "code",
      "source": [
        "try:\n",
        "  A = \"Hello\"\n",
        "  Ans = A + 100\n",
        "  print(Ans)\n",
        "except TypeError as e:\n",
        "  print(e)\n",
        "else:\n",
        "  print(Ans)"
      ],
      "metadata": {
        "colab": {
          "base_uri": "https://localhost:8080/"
        },
        "id": "ONBoY1sBURC_",
        "outputId": "2f758f57-94e6-4151-b120-c29275a6bc18"
      },
      "execution_count": null,
      "outputs": [
        {
          "output_type": "stream",
          "name": "stdout",
          "text": [
            "can only concatenate str (not \"int\") to str\n"
          ]
        }
      ]
    },
    {
      "cell_type": "markdown",
      "source": [
        "IndexError"
      ],
      "metadata": {
        "id": "CF_xEGMJVKGI"
      }
    },
    {
      "cell_type": "code",
      "source": [
        "try:\n",
        "  A = [1,2,3]\n",
        "  print(A[5])\n",
        "except IndexError as e:\n",
        "  print(e)"
      ],
      "metadata": {
        "colab": {
          "base_uri": "https://localhost:8080/"
        },
        "id": "IKWHUTgWU8bu",
        "outputId": "a95cb95a-d252-44b9-b018-c3193a1cdaa1"
      },
      "execution_count": null,
      "outputs": [
        {
          "output_type": "stream",
          "name": "stdout",
          "text": [
            "list index out of range\n"
          ]
        }
      ]
    },
    {
      "cell_type": "markdown",
      "source": [
        "ValueError"
      ],
      "metadata": {
        "id": "sx3LgJvmVg51"
      }
    },
    {
      "cell_type": "code",
      "source": [
        "import math\n",
        "try:\n",
        "  a = math.sqrt(-10)\n",
        "except ValueError as e:\n",
        "  print(e)\n",
        "else:\n",
        "  print(a)"
      ],
      "metadata": {
        "colab": {
          "base_uri": "https://localhost:8080/"
        },
        "id": "NFwQ1rVNVjmF",
        "outputId": "3b634832-eef8-4fa2-ad1c-a286c258d0df"
      },
      "execution_count": null,
      "outputs": [
        {
          "output_type": "stream",
          "name": "stdout",
          "text": [
            "math domain error\n"
          ]
        }
      ]
    },
    {
      "cell_type": "markdown",
      "source": [
        "OverflowError"
      ],
      "metadata": {
        "id": "R5rtZuJbV_Am"
      }
    },
    {
      "cell_type": "code",
      "source": [
        "import math\n",
        "try:\n",
        "  A = int(input(\"Enter a Number\"))\n",
        "  print(math.exp(A))\n",
        "except OverflowError as e:\n",
        "  print(e)\n",
        "else:\n",
        "  print(A)"
      ],
      "metadata": {
        "colab": {
          "base_uri": "https://localhost:8080/"
        },
        "id": "6CuEO1XcWEl6",
        "outputId": "5fbd1ec8-b20f-47f7-e46c-fa2457a2266d"
      },
      "execution_count": null,
      "outputs": [
        {
          "output_type": "stream",
          "name": "stdout",
          "text": [
            "Enter a Number1000\n",
            "math range error\n"
          ]
        }
      ]
    },
    {
      "cell_type": "markdown",
      "source": [
        "Q3Explain raise with example?"
      ],
      "metadata": {
        "id": "rDfNW0B-XdiE"
      }
    },
    {
      "cell_type": "code",
      "source": [
        "def defaultfunc():\n",
        "  a = 100\n",
        "  print(f\"Default value taken as {a}\")\n",
        "\n",
        "try:\n",
        "    a = int(input(\"Enter a number less than 10\"))\n",
        "    if(a < 10):\n",
        "      print(a)\n",
        "    else:\n",
        "      raise Exception(\"Number is greater than 10\")\n",
        "\n",
        "except:\n",
        "    print(\"Exception occurred\")\n",
        "    defaultfunc()"
      ],
      "metadata": {
        "id": "FiYXrGs3Xlte",
        "colab": {
          "base_uri": "https://localhost:8080/"
        },
        "outputId": "86009d12-5ec1-48b2-e049-eab0ffc56118"
      },
      "execution_count": null,
      "outputs": [
        {
          "output_type": "stream",
          "name": "stdout",
          "text": [
            "Enter a number less than 1015\n",
            "Exception occurred\n",
            "Default value taken as 100\n"
          ]
        }
      ]
    },
    {
      "cell_type": "markdown",
      "source": [
        "PROGRAM \n",
        "QUES 1"
      ],
      "metadata": {
        "id": "SFxh2s37biw0"
      }
    },
    {
      "cell_type": "code",
      "source": [
        "class NotInRange(ValueError):\n",
        "  pass\n",
        "i = 1\n",
        "while(i<6):\n",
        "  try:\n",
        "    a = int(input(\"Enter a Number in the range 0-8\"))\n",
        "    if(a>8 or a<0):\n",
        "      raise NotInRange(\"Number Out of Range\")\n",
        "    else:\n",
        "      print(a)\n",
        "  \n",
        "  except NotInRange:\n",
        "    print(\"5\")\n",
        "  i=i+1"
      ],
      "metadata": {
        "id": "wx9yl8uGbnJg",
        "colab": {
          "base_uri": "https://localhost:8080/"
        },
        "outputId": "60c2c749-0025-4a75-d433-8bb3fe36cc9b"
      },
      "execution_count": null,
      "outputs": [
        {
          "output_type": "stream",
          "name": "stdout",
          "text": [
            "Enter a Number in the range 0-81\n",
            "1\n",
            "Enter a Number in the range 0-83\n",
            "3\n",
            "Enter a Number in the range 0-85\n",
            "5\n",
            "Enter a Number in the range 0-87\n",
            "7\n",
            "Enter a Number in the range 0-89\n",
            "5\n"
          ]
        }
      ]
    },
    {
      "cell_type": "code",
      "source": [
        "A = []\n",
        "while(1):\n",
        "  try:\n",
        "    a = int(input(\"Enter a Two-Digit Number\"))\n",
        "    if(a>9 and a<100):\n",
        "      c = 0\n",
        "      for i in A:\n",
        "          if a == i :\n",
        "            c=c+1\n",
        "      if c>0:\n",
        "        raise Exception(\"Number entered is a Duplicate Number\")\n",
        "      else:\n",
        "        A.append(a)\n",
        "    else:\n",
        "        raise Exception(\"Number Entered is not a Double Digit Number\")\n",
        "  except Exception as e:\n",
        "    print(a)\n",
        "    break\n",
        "\n",
        "  finally:\n",
        "    print(A)"
      ],
      "metadata": {
        "colab": {
          "base_uri": "https://localhost:8080/"
        },
        "id": "UQdZTlmk-0ec",
        "outputId": "addb2442-22be-4b4f-c150-56b46efe0e06"
      },
      "execution_count": null,
      "outputs": [
        {
          "output_type": "stream",
          "name": "stdout",
          "text": [
            "Enter a Two-Digit Number10\n",
            "[10]\n",
            "Enter a Two-Digit Number20\n",
            "Enter a Two-Digit Number30\n",
            "[10, 20]\n",
            "[10, 20, 30]\n",
            "Enter a Two-Digit Number30\n",
            "30\n",
            "[10, 20, 30]\n"
          ]
        }
      ]
    },
    {
      "cell_type": "code",
      "source": [
        "class TooSmallError(Exception):\n",
        "  pass\n",
        "class TooLargeError(Exception):\n",
        "  pass\n",
        "\n",
        "try:\n",
        "  A = int(input(\"Enter a number in the range 10-20\"))\n",
        "  if(A<20):\n",
        "    raise TooLargeError(\"Enter Number is bigger than the range\")\n",
        "  elif(A<10):\n",
        "    raise TooSmallError(\"Entered Number is smaller than the range\")\n",
        "  else:\n",
        "    print(f\"Number is {A}\")\n",
        "  \n",
        "except TooSmallError as e:\n",
        "  print(e)\n",
        "except TooLargeError as e:\n",
        "  print(e)"
      ],
      "metadata": {
        "colab": {
          "base_uri": "https://localhost:8080/"
        },
        "id": "Nnk3A6Y7A9AS",
        "outputId": "b9f18a1e-1092-4f93-80c7-29b91ff5071b"
      },
      "execution_count": null,
      "outputs": [
        {
          "output_type": "stream",
          "name": "stdout",
          "text": [
            "Enter a number in the range 10-20 100\n",
            "Number is 100\n"
          ]
        }
      ]
    },
    {
      "cell_type": "code",
      "source": [
        "try:\n",
        "  a = int(input(\"Enter a number less than 10\"))\n",
        "  assert a>10, f\"number is {a}\"\n",
        "\n",
        "except Exception as e:\n",
        "  print(e)\n",
        "\n",
        "else:\n",
        "  print(\"Number is greater than 10 \\nDefault Number is 100\")"
      ],
      "metadata": {
        "colab": {
          "base_uri": "https://localhost:8080/"
        },
        "id": "unjQfx1nF619",
        "outputId": "2598b06c-a751-4af2-d94d-cf04a302be73"
      },
      "execution_count": null,
      "outputs": [
        {
          "output_type": "stream",
          "name": "stdout",
          "text": [
            "Enter a number less than 10 100\n",
            "Number is greater than 10 \n",
            "Default Number is 100\n"
          ]
        }
      ]
    },
    {
      "cell_type": "code",
      "source": [
        "  A = \"Hello\"\n",
        "  (lambda x: print(x)) (A)"
      ],
      "metadata": {
        "colab": {
          "base_uri": "https://localhost:8080/"
        },
        "id": "7zhyrlbBH0NP",
        "outputId": "bf04485a-0485-48fb-b3e0-51d65ea9ea00"
      },
      "execution_count": null,
      "outputs": [
        {
          "output_type": "stream",
          "name": "stdout",
          "text": [
            "Hello\n"
          ]
        }
      ]
    },
    {
      "cell_type": "code",
      "source": [
        "def fun(A):\n",
        "  if(A%2):\n",
        "      return True\n",
        "\n",
        "it_A = filter(fun , [1,2,3,4,5])\n",
        "print(list(it_A))"
      ],
      "metadata": {
        "colab": {
          "base_uri": "https://localhost:8080/"
        },
        "id": "DEZ2bh9OIFyo",
        "outputId": "020fd916-3046-4b19-9cd8-e92f0ea0b7e4"
      },
      "execution_count": null,
      "outputs": [
        {
          "output_type": "stream",
          "name": "stdout",
          "text": [
            "[1, 3, 5]\n"
          ]
        }
      ]
    },
    {
      "cell_type": "code",
      "source": [
        "A = [1,2,3,4]\n",
        "it_A = iter(A)\n",
        "print(type(it_A))\n",
        "print(next(it_A))"
      ],
      "metadata": {
        "colab": {
          "base_uri": "https://localhost:8080/"
        },
        "id": "gH2JHj-tVLv4",
        "outputId": "0c1627b1-8178-46dc-add8-0c8fa8b36195"
      },
      "execution_count": null,
      "outputs": [
        {
          "output_type": "stream",
          "name": "stdout",
          "text": [
            "<class 'list_iterator'>\n",
            "1\n"
          ]
        }
      ]
    },
    {
      "cell_type": "code",
      "source": [
        "A = [1,2,3,4,5]\n",
        "print(\"List A :-\",A)\n",
        "it_A = filter(lambda A : True if A%2==1 else False, A)\n",
        "print(\"List of Odd Number :-\", list(it_A))"
      ],
      "metadata": {
        "colab": {
          "base_uri": "https://localhost:8080/"
        },
        "id": "V8Z_d4HJVkgN",
        "outputId": "471062d1-7939-4318-e8d7-b962e40c78f5"
      },
      "execution_count": null,
      "outputs": [
        {
          "output_type": "stream",
          "name": "stdout",
          "text": [
            "List A :- [1, 2, 3, 4, 5]\n",
            "List of Odd Number :- [1, 3, 5]\n"
          ]
        }
      ]
    },
    {
      "cell_type": "code",
      "source": [
        "def IsVowel(S):\n",
        "  Vow = ['a', 'e', 'i', 'o', 'u']\n",
        "  if S in Vow:\n",
        "    return True\n",
        "  return False\n",
        "str = \"hello how are you\"\n",
        "print(\"Strinf is :-\",str)\n",
        "it_A = filter(IsVowel , str)\n",
        "A = list(it_A)\n",
        "print(\"Vowel in the string are :-\", A)\n",
        "\n",
        "B = []\n",
        "for i in A:\n",
        "  if i not in B:\n",
        "    B.append(i)\n",
        "\n",
        "print(\"Result without Duplicates :-\", B)"
      ],
      "metadata": {
        "colab": {
          "base_uri": "https://localhost:8080/"
        },
        "id": "1Gi1gx29WNMe",
        "outputId": "d3228fd9-aed3-48c6-87a6-a60eba84c9e8"
      },
      "execution_count": null,
      "outputs": [
        {
          "output_type": "stream",
          "name": "stdout",
          "text": [
            "Strinf is :- hello how are you\n",
            "Vowel in the string are :- ['e', 'o', 'o', 'a', 'e', 'o', 'u']\n",
            "Result without Duplicates :- ['e', 'o', 'a', 'u']\n"
          ]
        }
      ]
    },
    {
      "cell_type": "code",
      "source": [
        "def AddNumber(n):\n",
        "  result = 0\n",
        "  for i in range (n+1):\n",
        "      result = result + 1\n",
        "  return result\n",
        "\n",
        "Num = int(input(\"Enter a Natural Number \"))\n",
        "Result = AddNumber(Num)\n",
        "print(f\"Sum of all the Natural Numbers till {Num} is : {Result}\")"
      ],
      "metadata": {
        "colab": {
          "base_uri": "https://localhost:8080/"
        },
        "id": "oVcINPf2YY8V",
        "outputId": "3bd40150-e7d0-4776-b77d-43bfaf3d77a8"
      },
      "execution_count": null,
      "outputs": [
        {
          "output_type": "stream",
          "name": "stdout",
          "text": [
            "Enter a Natural Number 10\n",
            "Sum of all the Natural Numbers till 10 is : 11\n"
          ]
        }
      ]
    },
    {
      "cell_type": "code",
      "source": [
        "def FiboSeries(n):\n",
        "    A = 0\n",
        "    B =1\n",
        "    if n==1:\n",
        "        print(A)\n",
        "        return\n",
        "\n",
        "    elif n==0:\n",
        "        print(\"No Elements in the List\")\n",
        "        return\n",
        "\n",
        "    print(A , B , sep = \"\\t\" , end = \"\\t\")\n",
        "    for i in range(n-2):\n",
        "        C = A+B\n",
        "        print(C , end = \"\\t\")\n",
        "        A = B\n",
        "        B = C\n",
        "\n",
        "Num = int(input(\"Enter the Number of Terms in the Fibonaci Series \"))\n",
        "FiboSeries(Num)"
      ],
      "metadata": {
        "colab": {
          "base_uri": "https://localhost:8080/"
        },
        "id": "xuybFAwHbXku",
        "outputId": "2588c3f9-457f-45dd-efe8-5107901a1627"
      },
      "execution_count": null,
      "outputs": [
        {
          "output_type": "stream",
          "name": "stdout",
          "text": [
            "Enter the Number of Terms in the Fibonaci Series 5\n",
            "0\t1\t1\t2\t3\t"
          ]
        }
      ]
    },
    {
      "cell_type": "code",
      "source": [
        "def check_baggage(baggage_weight):\n",
        "  if baggage_weight >= 0 and baggage_weight <= 40:\n",
        "    return True\n",
        "  else:\n",
        "    return False \n",
        "def check_immigration(expiry_year):\n",
        "  if expiry_year >= 2030 and expiry_year <= 2050:\n",
        "    return True\n",
        "  else:\n",
        "    return False\n",
        "  \n",
        "def check_security(noc_status):\n",
        "  if noc_status == \"VALID\" or noc_status == \"valid\":\n",
        "    return True\n",
        "  else:\n",
        "    return False\n",
        "\n",
        "def traveler():\n",
        "  traveler_id = int(input(\"Enter the ID of the Traveler \"))\n",
        "  traveler_name = input(\"Enter the name of the Traveler \")\n",
        "  baggage_weight = int(input(\"Enter the baggage weight of the Traveler \"))\n",
        "  expiry_year = int(input(\"Enter the Expiry Year \"))\n",
        "\n",
        "  noc_status = input(\"Enter the NOC status of the Traveler \")\n",
        "  \n",
        "  if(check_baggage(baggage_weight) and check_immigration (expiry_year) and check_security(noc_status)):\n",
        "    print(f\"Traveler Name - {traveler_name}\")\n",
        "    print(f\"Traveler ID -{traveler_id}\")\n",
        "    print(\"Allow Traveler to fly!:\")\n",
        "  else:\n",
        "    print(f\"Traveler Name - {traveler_name}\")\n",
        "    print(f\"Traveler Id - {traveler_id}\")\n",
        "    print(\"detain Traveler for Re-checking!\")\n",
        "\n",
        "traveler()"
      ],
      "metadata": {
        "colab": {
          "base_uri": "https://localhost:8080/"
        },
        "id": "KE9kLTTeioOc",
        "outputId": "5d07746a-1177-4f57-b9c4-c82b3d54d639"
      },
      "execution_count": null,
      "outputs": [
        {
          "output_type": "stream",
          "name": "stdout",
          "text": [
            "Enter the ID of the Traveler 1001\n",
            "Enter the name of the Traveler Jim\n",
            "Enter the baggage weight of the Traveler 35\n",
            "Enter the Expiry Year 2019\n",
            "Enter the NOC status of the Traveler VALID\n",
            "Traveler Name - Jim\n",
            "Traveler Id - 1001\n",
            "detain Traveler for Re-checking!\n"
          ]
        }
      ]
    },
    {
      "cell_type": "markdown",
      "source": [
        "the end---"
      ],
      "metadata": {
        "id": "iPanCgnXdS0u"
      }
    },
    {
      "cell_type": "code",
      "source": [
        "#REVISION\n",
        "nums = []\n",
        "#Appending data in list\n",
        "nums.append(40)\n",
        "nums.append(40.45)\n",
        "nums.append(\"string\")\n",
        "print(nums)"
      ],
      "metadata": {
        "colab": {
          "base_uri": "https://localhost:8080/"
        },
        "id": "OdAMw4_QdRlq",
        "outputId": "9c99411c-e981-4ce1-ec10-8229ab7c5285"
      },
      "execution_count": null,
      "outputs": [
        {
          "output_type": "stream",
          "name": "stdout",
          "text": [
            "[40, 40.45, 'string']\n"
          ]
        }
      ]
    },
    {
      "cell_type": "code",
      "source": [
        "name = input(\"Enter your name: \")\n",
        "print(\"hello\", name)"
      ],
      "metadata": {
        "colab": {
          "base_uri": "https://localhost:8080/"
        },
        "id": "Z8IQq4lUhAcS",
        "outputId": "6f5be9c9-7d38-460a-bb5c-df6deae8465b"
      },
      "execution_count": null,
      "outputs": [
        {
          "output_type": "stream",
          "name": "stdout",
          "text": [
            "Enter your name: sameer\n",
            "hello sameer\n"
          ]
        }
      ]
    },
    {
      "cell_type": "code",
      "source": [
        "num1 = int(input(\"enter num1: \"))\n",
        "num2 = int(input(\"enter num2: \"))\n",
        "#Sum\n",
        "num3 = num1 + num2\n",
        "print(\"Sum is: \", num3)\n",
        "\n",
        "#Product\n",
        "num4 = num1 * num3\n",
        "print(\"Product is: \", num4)\n",
        "\n",
        "#subtraction\n",
        "num5 = num4 - num3\n",
        "print(\"Sub: \",num5)\n",
        "\n",
        "#division\n",
        "num6 = num4 % num5\n",
        "print(\"divi: \",num6)"
      ],
      "metadata": {
        "colab": {
          "base_uri": "https://localhost:8080/"
        },
        "id": "mOFCRxsGhsz7",
        "outputId": "ce7ed9e9-3728-45a0-f72b-55f785cb1689"
      },
      "execution_count": null,
      "outputs": [
        {
          "output_type": "stream",
          "name": "stdout",
          "text": [
            "enter num1: 2\n",
            "enter num2: 4\n",
            "Sum is:  6\n",
            "Product is:  12\n",
            "Sub:  6\n",
            "divi:  0\n"
          ]
        }
      ]
    },
    {
      "cell_type": "code",
      "source": [
        "num1 = 34\n",
        "if(num1>12):\n",
        "  print(\"Num1 is good number\")\n",
        "elif(num1>35):\n",
        "  print(\"Num2 is not a good number\")\n",
        "else:\n",
        "  print(\"Num2 is a good number\")"
      ],
      "metadata": {
        "colab": {
          "base_uri": "https://localhost:8080/"
        },
        "id": "ciq_XGtshTdX",
        "outputId": "5e844112-61a4-478c-df2e-66c9b65750a9"
      },
      "execution_count": null,
      "outputs": [
        {
          "output_type": "stream",
          "name": "stdout",
          "text": [
            "Num1 is good number\n"
          ]
        }
      ]
    },
    {
      "cell_type": "code",
      "source": [
        "# function with main\n",
        "def getInteger():\n",
        "    result = int(input(\"Enter integer: \"))\n",
        "    return result\n",
        "  \n",
        "def Main():\n",
        "    print(\"Started\")\n",
        "  \n",
        "    # calling the getInteger function and \n",
        "    # storing its returned value in the output variable\n",
        "    output = getInteger()     \n",
        "    print(output)\n",
        "# now we are required to tell Python \n",
        "# for 'Main' function existence\n",
        "\n",
        "if __name__==\"__main__\":\n",
        "    Main()"
      ],
      "metadata": {
        "colab": {
          "base_uri": "https://localhost:8080/"
        },
        "id": "v2D1c6r8hAZt",
        "outputId": "eddd7e80-d1d6-4ca7-faa6-2c03a9133fe2"
      },
      "execution_count": null,
      "outputs": [
        {
          "output_type": "stream",
          "name": "stdout",
          "text": [
            "Started\n",
            "Enter integer: 5\n",
            "5\n"
          ]
        }
      ]
    },
    {
      "cell_type": "code",
      "source": [
        "for r in range(5):\n",
        "  print(r)"
      ],
      "metadata": {
        "colab": {
          "base_uri": "https://localhost:8080/"
        },
        "id": "Ro5-m2lYhAXo",
        "outputId": "ebba78e3-b5ee-4dc0-f78c-463c65907417"
      },
      "execution_count": null,
      "outputs": [
        {
          "output_type": "stream",
          "name": "stdout",
          "text": [
            "0\n",
            "1\n",
            "2\n",
            "3\n",
            "4\n"
          ]
        }
      ]
    },
    {
      "cell_type": "code",
      "source": [
        "#math module\n",
        "import math\n",
        "\n",
        "def Main():\n",
        "  num = -85\n",
        "\n",
        "#fabs is used to get the absolute\n",
        "#value of the decimal]\n",
        "  num = math.fabs(num)\n",
        "  print(num)\n",
        "\n",
        "if __name__==\"__main__\":\n",
        "    Main()"
      ],
      "metadata": {
        "colab": {
          "base_uri": "https://localhost:8080/"
        },
        "id": "92VZMj_bhAU_",
        "outputId": "e3eaefbe-a420-4256-f7ce-df359041d766"
      },
      "execution_count": null,
      "outputs": [
        {
          "output_type": "stream",
          "name": "stdout",
          "text": [
            "85.0\n"
          ]
        }
      ]
    },
    {
      "cell_type": "code",
      "source": [
        "try:\n",
        "  print(x)\n",
        "finally:\n",
        "  print(\"how are you\")"
      ],
      "metadata": {
        "id": "BfoNyUvnhASm",
        "colab": {
          "base_uri": "https://localhost:8080/",
          "height": 234
        },
        "outputId": "33f0f1e0-2ee1-4f42-86a6-92b2cabfc719"
      },
      "execution_count": null,
      "outputs": [
        {
          "output_type": "stream",
          "name": "stdout",
          "text": [
            "how are you\n"
          ]
        },
        {
          "output_type": "error",
          "ename": "NameError",
          "evalue": "ignored",
          "traceback": [
            "\u001b[0;31m---------------------------------------------------------------------------\u001b[0m",
            "\u001b[0;31mNameError\u001b[0m                                 Traceback (most recent call last)",
            "\u001b[0;32m<ipython-input-1-7a24c02e7962>\u001b[0m in \u001b[0;36m<module>\u001b[0;34m()\u001b[0m\n\u001b[1;32m      1\u001b[0m \u001b[0;32mtry\u001b[0m\u001b[0;34m:\u001b[0m\u001b[0;34m\u001b[0m\u001b[0;34m\u001b[0m\u001b[0m\n\u001b[0;32m----> 2\u001b[0;31m   \u001b[0mprint\u001b[0m\u001b[0;34m(\u001b[0m\u001b[0mx\u001b[0m\u001b[0;34m)\u001b[0m\u001b[0;34m\u001b[0m\u001b[0;34m\u001b[0m\u001b[0m\n\u001b[0m\u001b[1;32m      3\u001b[0m \u001b[0;32mfinally\u001b[0m\u001b[0;34m:\u001b[0m\u001b[0;34m\u001b[0m\u001b[0;34m\u001b[0m\u001b[0m\n\u001b[1;32m      4\u001b[0m   \u001b[0mprint\u001b[0m\u001b[0;34m(\u001b[0m\u001b[0;34m\"how are you\"\u001b[0m\u001b[0;34m)\u001b[0m\u001b[0;34m\u001b[0m\u001b[0;34m\u001b[0m\u001b[0m\n",
            "\u001b[0;31mNameError\u001b[0m: name 'x' is not defined"
          ]
        }
      ]
    },
    {
      "cell_type": "code",
      "source": [
        "try:\n",
        "  print(x)\n",
        "except:\n",
        "  print(\"this is exception\")"
      ],
      "metadata": {
        "id": "LtTzfHFAhAQM",
        "colab": {
          "base_uri": "https://localhost:8080/"
        },
        "outputId": "b512b755-922e-4405-df29-376fcc087cb2"
      },
      "execution_count": null,
      "outputs": [
        {
          "output_type": "stream",
          "name": "stdout",
          "text": [
            "this is exception\n"
          ]
        }
      ]
    },
    {
      "cell_type": "code",
      "source": [
        "try:\n",
        "  x = 100\n",
        "  y = \"hello\"+x\n",
        "except(NameError, ValueError) as error:\n",
        "  print(error)\n",
        "else:\n",
        "  print(y)"
      ],
      "metadata": {
        "id": "k4sm44n3hAOR",
        "colab": {
          "base_uri": "https://localhost:8080/",
          "height": 234
        },
        "outputId": "1f7c1ff9-6735-49af-f1d8-26dcaf72cf6f"
      },
      "execution_count": null,
      "outputs": [
        {
          "output_type": "error",
          "ename": "TypeError",
          "evalue": "ignored",
          "traceback": [
            "\u001b[0;31m---------------------------------------------------------------------------\u001b[0m",
            "\u001b[0;31mTypeError\u001b[0m                                 Traceback (most recent call last)",
            "\u001b[0;32m<ipython-input-3-ae351e00fc8d>\u001b[0m in \u001b[0;36m<module>\u001b[0;34m()\u001b[0m\n\u001b[1;32m      1\u001b[0m \u001b[0;32mtry\u001b[0m\u001b[0;34m:\u001b[0m\u001b[0;34m\u001b[0m\u001b[0;34m\u001b[0m\u001b[0m\n\u001b[1;32m      2\u001b[0m   \u001b[0mx\u001b[0m \u001b[0;34m=\u001b[0m \u001b[0;36m100\u001b[0m\u001b[0;34m\u001b[0m\u001b[0;34m\u001b[0m\u001b[0m\n\u001b[0;32m----> 3\u001b[0;31m   \u001b[0my\u001b[0m \u001b[0;34m=\u001b[0m \u001b[0;34m\"hello\"\u001b[0m\u001b[0;34m+\u001b[0m\u001b[0mx\u001b[0m\u001b[0;34m\u001b[0m\u001b[0;34m\u001b[0m\u001b[0m\n\u001b[0m\u001b[1;32m      4\u001b[0m \u001b[0;32mexcept\u001b[0m\u001b[0;34m(\u001b[0m\u001b[0mNameError\u001b[0m\u001b[0;34m,\u001b[0m \u001b[0mValueError\u001b[0m\u001b[0;34m)\u001b[0m \u001b[0;32mas\u001b[0m \u001b[0merror\u001b[0m\u001b[0;34m:\u001b[0m\u001b[0;34m\u001b[0m\u001b[0;34m\u001b[0m\u001b[0m\n\u001b[1;32m      5\u001b[0m   \u001b[0mprint\u001b[0m\u001b[0;34m(\u001b[0m\u001b[0merror\u001b[0m\u001b[0;34m)\u001b[0m\u001b[0;34m\u001b[0m\u001b[0;34m\u001b[0m\u001b[0m\n",
            "\u001b[0;31mTypeError\u001b[0m: can only concatenate str (not \"int\") to str"
          ]
        }
      ]
    },
    {
      "cell_type": "code",
      "source": [
        "try:\n",
        "  a = int(input())\n",
        "  if (a>10):\n",
        "    print(a)\n",
        "  else:\n",
        "    try:\n",
        "      b = int(input())\n",
        "      if(b>5):\n",
        "        print(b)\n",
        "      else:\n",
        "        print(\"No more chance\")\n",
        "    except:\n",
        "      print(f\"exception raise for value of b\")\n",
        "except:\n",
        "  print(f\"exception raised for value of a\")"
      ],
      "metadata": {
        "id": "kxmUEzrVhAL5",
        "colab": {
          "base_uri": "https://localhost:8080/"
        },
        "outputId": "85eb6cce-cb42-46a9-d135-ccc5d60f2085"
      },
      "execution_count": null,
      "outputs": [
        {
          "output_type": "stream",
          "name": "stdout",
          "text": [
            "3\n",
            "hello\n",
            "exception raise for value of b\n"
          ]
        }
      ]
    },
    {
      "cell_type": "code",
      "source": [
        "def abc(x):\n",
        "  print(\"hello\"+x)\n",
        "try:\n",
        "  n = input()\n",
        "  abc(n)\n",
        "except ValueError as a:\n",
        "  print(a)\n",
        "except TypeError as b:\n",
        "  print(b)\n",
        "except NameError as c:\n",
        "  print(c)\n",
        "else:\n",
        "  print(n)"
      ],
      "metadata": {
        "id": "fTnKef6qhAJZ",
        "colab": {
          "base_uri": "https://localhost:8080/"
        },
        "outputId": "3da9a92d-2593-47cb-b9fa-5de8945c05ba"
      },
      "execution_count": null,
      "outputs": [
        {
          "output_type": "stream",
          "name": "stdout",
          "text": [
            "45\n",
            "hello45\n",
            "45\n"
          ]
        }
      ]
    },
    {
      "cell_type": "code",
      "source": [
        "def abc(x):\n",
        "  print(45+x)\n",
        "try:\n",
        "  n = input()\n",
        "  abc(n)\n",
        "except ValueError as a:\n",
        "  print(f\"1 -{a}\")\n",
        "except TypeError as b:\n",
        "  print(f\"2 -{b}\")\n",
        "except NameError as c:\n",
        "  print(f\"3 -{c}\")\n",
        "else:\n",
        "  print(n)"
      ],
      "metadata": {
        "id": "2IXdhxX7hAG2",
        "colab": {
          "base_uri": "https://localhost:8080/"
        },
        "outputId": "7dfacf05-4c38-4a9b-f139-dfd3f7414a21"
      },
      "execution_count": null,
      "outputs": [
        {
          "output_type": "stream",
          "name": "stdout",
          "text": [
            "hello\n",
            "2 -unsupported operand type(s) for +: 'int' and 'str'\n"
          ]
        }
      ]
    },
    {
      "cell_type": "code",
      "source": [
        "a = [1,2,3,4,5]\n",
        "try:\n",
        "  print(a)\n",
        "except ValueError:\n",
        "  print(\"This is an exception of some kind\")\n",
        "else:\n",
        "  print(a)"
      ],
      "metadata": {
        "id": "8VbRDG8qhAEm",
        "colab": {
          "base_uri": "https://localhost:8080/"
        },
        "outputId": "7ee496b9-757d-4d5c-ff97-ef07ecc7578a"
      },
      "execution_count": null,
      "outputs": [
        {
          "output_type": "stream",
          "name": "stdout",
          "text": [
            "[1, 2, 3, 4, 5]\n",
            "[1, 2, 3, 4, 5]\n"
          ]
        }
      ]
    },
    {
      "cell_type": "code",
      "source": [
        "def alternate():\n",
        "  a = 34/10\n",
        "  print(a)\n",
        "try:\n",
        "  a = 34/int(input(\"Enter a number= \"))\n",
        "except (ZeroDivisionError) as error:\n",
        "  print(error)\n",
        "  alternate()\n",
        "else:\n",
        "  print(a)"
      ],
      "metadata": {
        "id": "ZuOwwuaehAB1",
        "colab": {
          "base_uri": "https://localhost:8080/"
        },
        "outputId": "cc02c0fc-5bd2-4dbc-faed-af4da44b3153"
      },
      "execution_count": null,
      "outputs": [
        {
          "output_type": "stream",
          "name": "stdout",
          "text": [
            "Enter a number= 0\n",
            "division by zero\n",
            "3.4\n"
          ]
        }
      ]
    },
    {
      "cell_type": "code",
      "source": [
        "import math\n",
        "try:\n",
        "  x = int(input())\n",
        "  print(math.exp(x))\n",
        "except (OverflowError) as a:\n",
        "  print(a)\n",
        "else: \n",
        "  print(math.exp(x))"
      ],
      "metadata": {
        "id": "_jo7Cm_6g__h",
        "colab": {
          "base_uri": "https://localhost:8080/"
        },
        "outputId": "6989ccab-f5ad-49ab-caf0-f93f6a0d33f1"
      },
      "execution_count": null,
      "outputs": [
        {
          "output_type": "stream",
          "name": "stdout",
          "text": [
            "1000\n",
            "math range error\n"
          ]
        }
      ]
    },
    {
      "cell_type": "code",
      "source": [
        "try:\n",
        "  x = int(input())\n",
        "  l = [1,2,3,4,5]\n",
        "  a = l[x]\n",
        "except IndexError as i:\n",
        "    print(i)\n",
        "except ValueError as v:\n",
        "    print(v)\n",
        "else:\n",
        "  print(a)"
      ],
      "metadata": {
        "id": "_0-FKnKTg_8k",
        "colab": {
          "base_uri": "https://localhost:8080/"
        },
        "outputId": "cf0929ea-e447-4739-b4c5-c73146f5045f"
      },
      "execution_count": null,
      "outputs": [
        {
          "output_type": "stream",
          "name": "stdout",
          "text": [
            "5\n",
            "list index out of range\n"
          ]
        }
      ]
    },
    {
      "cell_type": "code",
      "source": [
        "for i in range(1, 5):\n",
        "  pass"
      ],
      "metadata": {
        "id": "J4kZ3ze0g_3m"
      },
      "execution_count": null,
      "outputs": []
    },
    {
      "cell_type": "code",
      "source": [
        "def a():\n",
        "  pass\n",
        "def b():\n",
        "  print(\"Hello\")\n",
        "a()\n",
        "b()\n"
      ],
      "metadata": {
        "colab": {
          "base_uri": "https://localhost:8080/"
        },
        "id": "Uu62rEL6eNO2",
        "outputId": "d0f2c54e-d825-45ff-9bac-2b99444fa0a5"
      },
      "execution_count": null,
      "outputs": [
        {
          "output_type": "stream",
          "name": "stdout",
          "text": [
            "Hello\n"
          ]
        }
      ]
    },
    {
      "cell_type": "markdown",
      "source": [
        "Raise Keyword:\n",
        "it is use to raise the exception.\n",
        "and it raises the error or exception and interrupts the flow of control.\n",
        "\n",
        "syntax:\n",
        "rasie{exception_class}"
      ],
      "metadata": {
        "id": "XGuzEj62fIEo"
      }
    },
    {
      "cell_type": "code",
      "source": [
        "def default():\n",
        "  a = 100\n",
        "  print(a)\n",
        "a = int(input())\n",
        "try:\n",
        "  if a < 10:\n",
        "    raise Exception(\"Num should > 10\")\n",
        "  else:\n",
        "    print(a)\n",
        "except:\n",
        "    print(\"Exception occured\")\n",
        "    default()"
      ],
      "metadata": {
        "colab": {
          "base_uri": "https://localhost:8080/"
        },
        "id": "bhZOvZq9fHna",
        "outputId": "dd25b28a-6181-40c7-b257-f171cbe1fc16"
      },
      "execution_count": null,
      "outputs": [
        {
          "output_type": "stream",
          "name": "stdout",
          "text": [
            "6\n",
            "Exception occured\n",
            "100\n"
          ]
        }
      ]
    },
    {
      "cell_type": "code",
      "source": [
        "class TooSmallError(Exception):\n",
        "  pass\n",
        "class TooLargeError(Exception):\n",
        "  pass\n",
        "\n",
        "try:\n",
        "  a = int(input())\n",
        "  if(a<100):\n",
        "    raise TooSmallError(f\"You entered too small number {a}\")\n",
        "  elif(a>1000):\n",
        "    raise TooLargeError(f\"You entered too large number {a}\")\n",
        "  else:\n",
        "    print(f\"{a} - number accepted\")\n",
        "except TooSmallError as e:\n",
        "  print(e)\n",
        "except TooLargeError as e:\n",
        "  print(e)"
      ],
      "metadata": {
        "colab": {
          "base_uri": "https://localhost:8080/"
        },
        "id": "TqaY-PvRgK0A",
        "outputId": "05c5d852-7b5a-4bb7-b97f-f511960bbd24"
      },
      "execution_count": null,
      "outputs": [
        {
          "output_type": "stream",
          "name": "stdout",
          "text": [
            "45\n",
            "You entered too small number 45\n"
          ]
        }
      ]
    },
    {
      "cell_type": "code",
      "source": [
        "class NotinRangeError(ValueError):\n",
        "  pass\n",
        "count = 0\n",
        "while(1):\n",
        "  a = int(input(\"enter any number range 1 - 10 \"))\n",
        "  try:\n",
        "    if(a>=1 and a<=10):\n",
        "      print(f\"you take {count} times to enter correct number !!! \")\n",
        "      break\n",
        "    else:\n",
        "      count = count + 1\n",
        "      raise NotinRangeError\n",
        "  except NotinRangeError:\n",
        "    print(f\"Wromg input {count} times\")"
      ],
      "metadata": {
        "colab": {
          "base_uri": "https://localhost:8080/"
        },
        "id": "v04hkkKdl47V",
        "outputId": "a9156faf-c4a5-465d-ec5a-a644fd285f7e"
      },
      "execution_count": null,
      "outputs": [
        {
          "output_type": "stream",
          "name": "stdout",
          "text": [
            "enter any number range 1 - 10 10\n",
            "you take 0 times to enter correct number !!! \n"
          ]
        }
      ]
    },
    {
      "cell_type": "code",
      "source": [
        "txt='abcdefghijk {} all '\n",
        "print(txt.format(73.79))\n"
      ],
      "metadata": {
        "id": "nb07pNf2morr"
      },
      "execution_count": null,
      "outputs": []
    },
    {
      "cell_type": "markdown",
      "source": [
        "# New Section"
      ],
      "metadata": {
        "id": "p9bQi46iPjo3"
      }
    }
  ]
}