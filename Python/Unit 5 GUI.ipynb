{
  "cells": [
    {
      "cell_type": "code",
      "execution_count": null,
      "id": "fc27c1fc",
      "metadata": {
        "id": "fc27c1fc"
      },
      "outputs": [],
      "source": [
        "import tkinter as tk"
      ]
    },
    {
      "cell_type": "code",
      "execution_count": null,
      "id": "089eeff7",
      "metadata": {
        "id": "089eeff7"
      },
      "outputs": [],
      "source": [
        "win = tk.Tk() #win is an instance of Tk class\n",
        "win.mainloop()\n",
        "print(\"i will execute once you close the window\")"
      ]
    },
    {
      "cell_type": "code",
      "execution_count": null,
      "id": "7401b821",
      "metadata": {
        "id": "7401b821"
      },
      "outputs": [],
      "source": [
        "win = tk.Tk() #win is an instance of Tk class\n",
        "lab = tk.Label(text=\"Hello, world\")#label class to create label widget but not yet added to window\n",
        "lab.pack() #add widget to the window\n",
        "win.mainloop() #listen the event like keypress"
      ]
    },
    {
      "cell_type": "code",
      "execution_count": null,
      "id": "40fffcfa",
      "metadata": {
        "id": "40fffcfa"
      },
      "outputs": [],
      "source": [
        "win = tk.Tk() #win is an instance of Tk class\n",
        "tk.Label(win, text=\"Hello, world\").grid(row = 0)#label class to create label widget but not yet added to window\n",
        "win.mainloop() #listen the event like keypress\n",
        "#The Grid geometry manager puts the widgets in a 2-dimensional table. \n",
        "#each cell of the table can have widget."
      ]
    },
    {
      "cell_type": "code",
      "execution_count": null,
      "id": "71427e47",
      "metadata": {
        "id": "71427e47"
      },
      "outputs": [],
      "source": [
        "win = tk.Tk() #win is an instance of Tk class\n",
        "tk.Label(win, text=\"First Name\").grid(row=0)\n",
        "tk.Label(win, text=\"Last Name\").grid(column=0)\n",
        "win.mainloop() #listen the event like keypress"
      ]
    },
    {
      "cell_type": "code",
      "execution_count": null,
      "id": "4fd70f19",
      "metadata": {
        "id": "4fd70f19"
      },
      "outputs": [],
      "source": [
        "win = tk.Tk()\n",
        "tk.Label(win, \n",
        "         text=\"hello\",\n",
        "         fg=\"white\",  # Set the text color to white\n",
        "         bg=\"black\"  # Set the background color to black\n",
        ").grid(row = 0)\n",
        "win.mainloop()"
      ]
    },
    {
      "cell_type": "code",
      "execution_count": null,
      "id": "e26d5b66",
      "metadata": {
        "id": "e26d5b66"
      },
      "outputs": [],
      "source": [
        "win = tk.Tk() #win is an instance of Tk class\n",
        "l1 = tk.Label(text=\"First Name\")\n",
        "l2 = tk.Label(text=\"Last Name\")\n",
        "l1.pack()\n",
        "l2.pack()\n",
        "win.mainloop() #listen the event like keypress"
      ]
    },
    {
      "cell_type": "code",
      "execution_count": null,
      "id": "5b68ebd1",
      "metadata": {
        "id": "5b68ebd1"
      },
      "outputs": [],
      "source": [
        "win = tk.Tk()\n",
        "win.title(\"First window\")\n",
        "lab = tk.Label(text=\"Hello, world\", width=40,height=20)\n",
        "button = tk.Button(\n",
        "    text=\"Click me!\",\n",
        "    width=25,\n",
        "    height=5,\n",
        "    bg=\"blue\",\n",
        "    fg=\"yellow\",\n",
        ")\n",
        "l1 = [lab, button]\n",
        "for i in l1:\n",
        "    i.pack()\n",
        "win.mainloop()"
      ]
    },
    {
      "cell_type": "code",
      "execution_count": null,
      "id": "3fca3922",
      "metadata": {
        "id": "3fca3922"
      },
      "outputs": [],
      "source": [
        "win = tk.Tk()\n",
        "tk.Label(win, \n",
        "    text=\"Hello, world\",\n",
        "    fg=\"yellow\",\n",
        "    bg=\"black\",\n",
        "    width=40,\n",
        "    height=20\n",
        ").grid(row = 0) #width and height measured in text units.\n",
        "win.mainloop()"
      ]
    },
    {
      "cell_type": "code",
      "execution_count": null,
      "id": "a39eab6b",
      "metadata": {
        "id": "a39eab6b"
      },
      "outputs": [],
      "source": [
        "from tkinter import messagebox\n",
        "win = tk.Tk()\n",
        "win.title(\"First Window\")\n",
        "lab = tk.Label(win, text=\"Press button to know my name.\").grid(row = 0, column = 0)\n",
        "def fun():\n",
        "    messagebox.showinfo('Name','I dont have any name.')\n",
        "tk.Button(win, text='Show', command=fun).grid(row=1, column=1)\n",
        "win.mainloop()\n"
      ]
    },
    {
      "cell_type": "code",
      "execution_count": null,
      "id": "bdc2abef",
      "metadata": {
        "id": "bdc2abef"
      },
      "outputs": [],
      "source": [
        "from tkinter import messagebox\n",
        "win = tk.Tk()\n",
        "win.title(\"First Window\")\n",
        "def abc():\n",
        "    messagebox.showinfo('action', 'you select a radio button')\n",
        "tk.Radiobutton(win, text=\"Radio Button 1\", command = abc).grid(row = 0, column = 0)\n",
        "win.mainloop()"
      ]
    },
    {
      "cell_type": "code",
      "execution_count": null,
      "id": "4bcfea74",
      "metadata": {
        "id": "4bcfea74"
      },
      "outputs": [],
      "source": [
        "from tkinter import messagebox\n",
        "win = tk.Tk()\n",
        "win.title(\"First Window\")\n",
        "def abc():\n",
        "    messagebox.showinfo('action', f'you select a radio button with value = {var.get()}')\n",
        "var = tk.IntVar()#to set integer data in widget and can retrive it as well.\n",
        "tk.Radiobutton(win, text=\"Radio Button 1\", command = abc, variable = var, value = 1).grid(row = 0, column = 0)\n",
        "tk.Radiobutton(win, text=\"Radio Button 2\", command = abc, variable = var, value = 2).grid(row = 1, column = 0)\n",
        "tk.Radiobutton(win, text=\"Radio Button 3\", command = abc, variable = var, value = 3).grid(row = 2, column = 0)\n",
        "win.mainloop()"
      ]
    },
    {
      "cell_type": "code",
      "execution_count": null,
      "id": "856334e9",
      "metadata": {
        "id": "856334e9"
      },
      "outputs": [],
      "source": [
        "from tkinter import messagebox\n",
        "win = tk.Tk()\n",
        "win.title(\"First Window\")\n",
        "def abc1():\n",
        "    messagebox.showinfo('action', f'you select a radio button with value = {var1.get()}')\n",
        "def abc2():\n",
        "    messagebox.showinfo('action', f'you select a radio button with value = {var2.get()}')\n",
        "def abc3():\n",
        "    messagebox.showinfo('action', f'you select a radio button with value = {var3.get()}')\n",
        "var1 = tk.IntVar()#to set integer data in widget and can retrive it as well.\n",
        "var2 = tk.IntVar()\n",
        "var3 = tk.IntVar()\n",
        "tk.Radiobutton(win, text=\"Radio Button 1\", command = abc1, variable = var1, value = 1).grid(row = 0, column = 0)\n",
        "tk.Radiobutton(win, text=\"Radio Button 2\", command = abc2, variable = var2, value = 2).grid(row = 1, column = 0)\n",
        "tk.Radiobutton(win, text=\"Radio Button 3\", command = abc3, variable = var3, value = 3).grid(row = 2, column = 0)\n",
        "win.mainloop()"
      ]
    },
    {
      "cell_type": "code",
      "execution_count": null,
      "id": "7ba20ac3",
      "metadata": {
        "id": "7ba20ac3"
      },
      "outputs": [],
      "source": [
        "from tkinter import messagebox\n",
        "win = tk.Tk()\n",
        "win.title(\"First Window\")\n",
        "def abc():\n",
        "    choice  = var.get()\n",
        "    if choice == 1:\n",
        "        output = \"Chinese\"\n",
        "\n",
        "    elif choice == 2:\n",
        "        output =  \"South india\"\n",
        "    \n",
        "    elif choice == 3:\n",
        "        output =  \"Italian\"\n",
        "    \n",
        "    messagebox.showinfo('action', f'you select a radio button with value = {output}')\n",
        "tk.Button(win, text='Show', command=abc).grid(row=3, column=3)\n",
        "var = tk.IntVar()\n",
        "tk.Radiobutton(win, text=\"Chinese\", variable = var, value = 1).grid(row = 0, column = 0)\n",
        "tk.Radiobutton(win, text=\"South India\", variable = var, value = 2).grid(row = 1, column = 0)\n",
        "tk.Radiobutton(win, text=\"Italian\", variable = var, value = 3).grid(row = 2, column = 0)\n",
        "win.mainloop()"
      ]
    },
    {
      "cell_type": "code",
      "execution_count": null,
      "id": "6f405d11",
      "metadata": {
        "id": "6f405d11",
        "outputId": "f13ed1cd-e38f-4d34-ff5e-87f4865b2218"
      },
      "outputs": [
        {
          "name": "stdout",
          "output_type": "stream",
          "text": [
            "Kunal\n",
            "50001234\n",
            "first\n",
            "Not Opted\n"
          ]
        }
      ],
      "source": [
        "from tkinter import messagebox\n",
        "win = tk.Tk()\n",
        "win.title(\"First Window\")\n",
        "def name():\n",
        "    print(\"Kunal\")\n",
        "def sap():\n",
        "    print(\"50001234\")\n",
        "def year():\n",
        "    print(\"first\")\n",
        "def branch():\n",
        "    print(\"Not Opted\")\n",
        "def close():\n",
        "    win.destroy()\n",
        "tk.Button(win, text='Name', command=name, width = 10, height = 1).grid(row=0, column=0)\n",
        "tk.Button(win, text='SAP', command=sap, width = 10, height = 1).grid(row=1, column=0)\n",
        "tk.Button(win, text='Year', command=year, width = 10, height = 1).grid(row=2, column=0)\n",
        "tk.Button(win, text='Branch', command=branch, width = 10, height = 1).grid(row=3, column=0)\n",
        "tk.Button(win, text='close', command=close, width = 10, height = 1).grid(row=4, column=0)\n",
        "win.mainloop()"
      ]
    },
    {
      "cell_type": "code",
      "execution_count": null,
      "id": "06a8d558",
      "metadata": {
        "id": "06a8d558",
        "outputId": "ea3277bc-6ad1-4e1e-b1e3-b5181410161a"
      },
      "outputs": [
        {
          "name": "stdout",
          "output_type": "stream",
          "text": [
            "(0, 0, 1)\n"
          ]
        }
      ],
      "source": [
        "from tkinter import messagebox\n",
        "win = tk.Tk()\n",
        "win.title(\"First Window\")\n",
        "def abc():\n",
        "    print(f\"{var1.get(),var2.get(),var3.get() }\")\n",
        "tk.Button(win, text='Show', command=abc).grid(row=3, column=3)\n",
        "var1 = tk.IntVar()\n",
        "var2 = tk.IntVar()\n",
        "var3 = tk.IntVar()\n",
        "tk.Checkbutton(win, text=\"Chinese\", variable = var1).grid(row = 0, column = 0)\n",
        "tk.Checkbutton(win, text=\"South India\", variable = var2).grid(row = 1, column = 0)\n",
        "tk.Checkbutton(win, text=\"Italian\", variable = var3).grid(row = 2, column = 0)\n",
        "win.mainloop()"
      ]
    },
    {
      "cell_type": "code",
      "execution_count": null,
      "id": "f541e01d",
      "metadata": {
        "id": "f541e01d"
      },
      "outputs": [],
      "source": [
        "win = tk.Tk()\n",
        "win.title(\"First window\")\n",
        "lab = tk.Label(win, text=\"Hello, world\").grid(row = 0)\n",
        "e1 = tk.Entry(win).grid(row=0, column=1)\n",
        "tk.Button(win, text='Show', command=show_entry).grid(row=3, column=1, sticky=tk.W, pady = 4)\n",
        "win.mainloop()\n",
        "def show_entry():\n",
        "    print(\"First Name: %s\" % (e1.get()))\n",
        "\n"
      ]
    },
    {
      "cell_type": "code",
      "execution_count": null,
      "id": "4f021997",
      "metadata": {
        "id": "4f021997"
      },
      "outputs": [],
      "source": [
        "import tkinter as tk\n",
        "def show_data():\n",
        "    print(\"%s\" %(e1.get()))\n",
        "win = tk.Tk()\n",
        "tk.Label(win, text=\"First Name\").grid(row=0)\n",
        "e1 = tk.Entry(win)\n",
        "e1.grid(row=0, column=1)\n",
        "tk.Button(win, text='Show', command=show_data).grid(row=3, column=1)\n",
        "\n",
        "tk.mainloop()"
      ]
    },
    {
      "cell_type": "code",
      "execution_count": null,
      "id": "989f4969",
      "metadata": {
        "id": "989f4969"
      },
      "outputs": [],
      "source": [
        "import tkinter as tk\n",
        "def show_data():\n",
        "    print(\"%s\" %(e1.get()))\n",
        "win = tk.Tk()\n",
        "l1 = tk.Label(text=\"First Name\")\n",
        "e1 = tk.Entry()\n",
        "b1 = tk.Button(text='Show', command=show_data)\n",
        "l1.pack()\n",
        "e1.pack()\n",
        "b1.pack()\n",
        "\n",
        "tk.mainloop()"
      ]
    }
  ],
  "metadata": {
    "kernelspec": {
      "display_name": "Python 3",
      "language": "python",
      "name": "python3"
    },
    "language_info": {
      "codemirror_mode": {
        "name": "ipython",
        "version": 3
      },
      "file_extension": ".py",
      "mimetype": "text/x-python",
      "name": "python",
      "nbconvert_exporter": "python",
      "pygments_lexer": "ipython3",
      "version": "3.8.8"
    },
    "colab": {
      "name": "GUI.ipynb",
      "provenance": []
    }
  },
  "nbformat": 4,
  "nbformat_minor": 5
}