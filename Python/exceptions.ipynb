{
 "cells": [
  {
   "cell_type": "code",
   "execution_count": null,
   "metadata": {},
   "outputs": [],
   "source": [
    "a = int(input(\"enter a number\"))\n",
    "if a % 2:\n",
    "    print(\"okay\")\n",
    "else:\n",
    "    raise Exception(\"Enter only an odd number\")\n",
    "\n",
    "# Exception and exception"
   ]
  },
  {
   "cell_type": "code",
   "execution_count": null,
   "metadata": {},
   "outputs": [],
   "source": [
    "class NotinRangeError(ValueError):\n",
    "    pass\n",
    "count = 0\n",
    "while(1):\n",
    "    a = int(input(\"Enter any number between 1 to 10: \"))\n",
    "    try:\n",
    "        if a >= 1 and a <= 10:\n",
    "            print(f\"You took {count} times to enter correct number !\" )\n",
    "            break\n",
    "        else:\n",
    "            count = count + 1\n",
    "            raise NotinRangeError\n",
    "    except NotinRangeError:\n",
    "        print(f\"Wrong input {count} times\")       "
   ]
  }
 ],
 "metadata": {
  "interpreter": {
   "hash": "64c38de73638cd68f06ade4f2daf9db87bd00ec7e1b0ba5dd5d9d6d9e2cca6dc"
  },
  "kernelspec": {
   "display_name": "Python 3.10.1 64-bit",
   "language": "python",
   "name": "python3"
  },
  "language_info": {
   "codemirror_mode": {
    "name": "ipython",
    "version": 3
   },
   "file_extension": ".py",
   "mimetype": "text/x-python",
   "name": "python",
   "nbconvert_exporter": "python",
   "pygments_lexer": "ipython3",
   "version": "3.10.1"
  },
  "orig_nbformat": 4
 },
 "nbformat": 4,
 "nbformat_minor": 2
}
